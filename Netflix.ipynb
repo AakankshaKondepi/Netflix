{
 "cells": [
  {
   "cell_type": "code",
   "execution_count": 7,
   "id": "d383c309",
   "metadata": {},
   "outputs": [],
   "source": [
    "import pandas as pd\n",
    "import numpy as np\n",
    "import matplotlib.pyplot as plt\n",
    "import seaborn as sns"
   ]
  },
  {
   "cell_type": "code",
   "execution_count": 8,
   "id": "c69e2d90",
   "metadata": {},
   "outputs": [],
   "source": [
    "df=pd.read_csv('netflix_titles.csv')"
   ]
  },
  {
   "cell_type": "code",
   "execution_count": 9,
   "id": "637c9a2a",
   "metadata": {},
   "outputs": [
    {
     "data": {
      "text/html": [
       "<div>\n",
       "<style scoped>\n",
       "    .dataframe tbody tr th:only-of-type {\n",
       "        vertical-align: middle;\n",
       "    }\n",
       "\n",
       "    .dataframe tbody tr th {\n",
       "        vertical-align: top;\n",
       "    }\n",
       "\n",
       "    .dataframe thead th {\n",
       "        text-align: right;\n",
       "    }\n",
       "</style>\n",
       "<table border=\"1\" class=\"dataframe\">\n",
       "  <thead>\n",
       "    <tr style=\"text-align: right;\">\n",
       "      <th></th>\n",
       "      <th>show_id</th>\n",
       "      <th>type</th>\n",
       "      <th>title</th>\n",
       "      <th>director</th>\n",
       "      <th>cast</th>\n",
       "      <th>country</th>\n",
       "      <th>date_added</th>\n",
       "      <th>release_year</th>\n",
       "      <th>rating</th>\n",
       "      <th>duration</th>\n",
       "      <th>listed_in</th>\n",
       "      <th>description</th>\n",
       "    </tr>\n",
       "  </thead>\n",
       "  <tbody>\n",
       "    <tr>\n",
       "      <th>0</th>\n",
       "      <td>s1</td>\n",
       "      <td>Movie</td>\n",
       "      <td>Dick Johnson Is Dead</td>\n",
       "      <td>Kirsten Johnson</td>\n",
       "      <td>NaN</td>\n",
       "      <td>United States</td>\n",
       "      <td>September 25, 2021</td>\n",
       "      <td>2020</td>\n",
       "      <td>PG-13</td>\n",
       "      <td>90 min</td>\n",
       "      <td>Documentaries</td>\n",
       "      <td>As her father nears the end of his life, filmm...</td>\n",
       "    </tr>\n",
       "    <tr>\n",
       "      <th>1</th>\n",
       "      <td>s2</td>\n",
       "      <td>TV Show</td>\n",
       "      <td>Blood &amp; Water</td>\n",
       "      <td>NaN</td>\n",
       "      <td>Ama Qamata, Khosi Ngema, Gail Mabalane, Thaban...</td>\n",
       "      <td>South Africa</td>\n",
       "      <td>September 24, 2021</td>\n",
       "      <td>2021</td>\n",
       "      <td>TV-MA</td>\n",
       "      <td>2 Seasons</td>\n",
       "      <td>International TV Shows, TV Dramas, TV Mysteries</td>\n",
       "      <td>After crossing paths at a party, a Cape Town t...</td>\n",
       "    </tr>\n",
       "    <tr>\n",
       "      <th>2</th>\n",
       "      <td>s3</td>\n",
       "      <td>TV Show</td>\n",
       "      <td>Ganglands</td>\n",
       "      <td>Julien Leclercq</td>\n",
       "      <td>Sami Bouajila, Tracy Gotoas, Samuel Jouy, Nabi...</td>\n",
       "      <td>NaN</td>\n",
       "      <td>September 24, 2021</td>\n",
       "      <td>2021</td>\n",
       "      <td>TV-MA</td>\n",
       "      <td>1 Season</td>\n",
       "      <td>Crime TV Shows, International TV Shows, TV Act...</td>\n",
       "      <td>To protect his family from a powerful drug lor...</td>\n",
       "    </tr>\n",
       "    <tr>\n",
       "      <th>3</th>\n",
       "      <td>s4</td>\n",
       "      <td>TV Show</td>\n",
       "      <td>Jailbirds New Orleans</td>\n",
       "      <td>NaN</td>\n",
       "      <td>NaN</td>\n",
       "      <td>NaN</td>\n",
       "      <td>September 24, 2021</td>\n",
       "      <td>2021</td>\n",
       "      <td>TV-MA</td>\n",
       "      <td>1 Season</td>\n",
       "      <td>Docuseries, Reality TV</td>\n",
       "      <td>Feuds, flirtations and toilet talk go down amo...</td>\n",
       "    </tr>\n",
       "    <tr>\n",
       "      <th>4</th>\n",
       "      <td>s5</td>\n",
       "      <td>TV Show</td>\n",
       "      <td>Kota Factory</td>\n",
       "      <td>NaN</td>\n",
       "      <td>Mayur More, Jitendra Kumar, Ranjan Raj, Alam K...</td>\n",
       "      <td>India</td>\n",
       "      <td>September 24, 2021</td>\n",
       "      <td>2021</td>\n",
       "      <td>TV-MA</td>\n",
       "      <td>2 Seasons</td>\n",
       "      <td>International TV Shows, Romantic TV Shows, TV ...</td>\n",
       "      <td>In a city of coaching centers known to train I...</td>\n",
       "    </tr>\n",
       "  </tbody>\n",
       "</table>\n",
       "</div>"
      ],
      "text/plain": [
       "  show_id     type                  title         director  \\\n",
       "0      s1    Movie   Dick Johnson Is Dead  Kirsten Johnson   \n",
       "1      s2  TV Show          Blood & Water              NaN   \n",
       "2      s3  TV Show              Ganglands  Julien Leclercq   \n",
       "3      s4  TV Show  Jailbirds New Orleans              NaN   \n",
       "4      s5  TV Show           Kota Factory              NaN   \n",
       "\n",
       "                                                cast        country  \\\n",
       "0                                                NaN  United States   \n",
       "1  Ama Qamata, Khosi Ngema, Gail Mabalane, Thaban...   South Africa   \n",
       "2  Sami Bouajila, Tracy Gotoas, Samuel Jouy, Nabi...            NaN   \n",
       "3                                                NaN            NaN   \n",
       "4  Mayur More, Jitendra Kumar, Ranjan Raj, Alam K...          India   \n",
       "\n",
       "           date_added  release_year rating   duration  \\\n",
       "0  September 25, 2021          2020  PG-13     90 min   \n",
       "1  September 24, 2021          2021  TV-MA  2 Seasons   \n",
       "2  September 24, 2021          2021  TV-MA   1 Season   \n",
       "3  September 24, 2021          2021  TV-MA   1 Season   \n",
       "4  September 24, 2021          2021  TV-MA  2 Seasons   \n",
       "\n",
       "                                           listed_in  \\\n",
       "0                                      Documentaries   \n",
       "1    International TV Shows, TV Dramas, TV Mysteries   \n",
       "2  Crime TV Shows, International TV Shows, TV Act...   \n",
       "3                             Docuseries, Reality TV   \n",
       "4  International TV Shows, Romantic TV Shows, TV ...   \n",
       "\n",
       "                                         description  \n",
       "0  As her father nears the end of his life, filmm...  \n",
       "1  After crossing paths at a party, a Cape Town t...  \n",
       "2  To protect his family from a powerful drug lor...  \n",
       "3  Feuds, flirtations and toilet talk go down amo...  \n",
       "4  In a city of coaching centers known to train I...  "
      ]
     },
     "execution_count": 9,
     "metadata": {},
     "output_type": "execute_result"
    }
   ],
   "source": [
    "df.head(5)"
   ]
  },
  {
   "cell_type": "code",
   "execution_count": 10,
   "id": "ee8df4da",
   "metadata": {},
   "outputs": [
    {
     "data": {
      "text/plain": [
       "Index(['show_id', 'type', 'title', 'director', 'cast', 'country', 'date_added',\n",
       "       'release_year', 'rating', 'duration', 'listed_in', 'description'],\n",
       "      dtype='object')"
      ]
     },
     "execution_count": 10,
     "metadata": {},
     "output_type": "execute_result"
    }
   ],
   "source": [
    "df.columns"
   ]
  },
  {
   "cell_type": "code",
   "execution_count": 11,
   "id": "7a9e6071",
   "metadata": {},
   "outputs": [
    {
     "data": {
      "text/plain": [
       "(8807, 12)"
      ]
     },
     "execution_count": 11,
     "metadata": {},
     "output_type": "execute_result"
    }
   ],
   "source": [
    "df.shape"
   ]
  },
  {
   "cell_type": "code",
   "execution_count": 12,
   "id": "924ab96d",
   "metadata": {},
   "outputs": [
    {
     "data": {
      "text/html": [
       "<div>\n",
       "<style scoped>\n",
       "    .dataframe tbody tr th:only-of-type {\n",
       "        vertical-align: middle;\n",
       "    }\n",
       "\n",
       "    .dataframe tbody tr th {\n",
       "        vertical-align: top;\n",
       "    }\n",
       "\n",
       "    .dataframe thead th {\n",
       "        text-align: right;\n",
       "    }\n",
       "</style>\n",
       "<table border=\"1\" class=\"dataframe\">\n",
       "  <thead>\n",
       "    <tr style=\"text-align: right;\">\n",
       "      <th></th>\n",
       "      <th>release_year</th>\n",
       "    </tr>\n",
       "  </thead>\n",
       "  <tbody>\n",
       "    <tr>\n",
       "      <th>count</th>\n",
       "      <td>8807.000000</td>\n",
       "    </tr>\n",
       "    <tr>\n",
       "      <th>mean</th>\n",
       "      <td>2014.180198</td>\n",
       "    </tr>\n",
       "    <tr>\n",
       "      <th>std</th>\n",
       "      <td>8.819312</td>\n",
       "    </tr>\n",
       "    <tr>\n",
       "      <th>min</th>\n",
       "      <td>1925.000000</td>\n",
       "    </tr>\n",
       "    <tr>\n",
       "      <th>25%</th>\n",
       "      <td>2013.000000</td>\n",
       "    </tr>\n",
       "    <tr>\n",
       "      <th>50%</th>\n",
       "      <td>2017.000000</td>\n",
       "    </tr>\n",
       "    <tr>\n",
       "      <th>75%</th>\n",
       "      <td>2019.000000</td>\n",
       "    </tr>\n",
       "    <tr>\n",
       "      <th>max</th>\n",
       "      <td>2021.000000</td>\n",
       "    </tr>\n",
       "  </tbody>\n",
       "</table>\n",
       "</div>"
      ],
      "text/plain": [
       "       release_year\n",
       "count   8807.000000\n",
       "mean    2014.180198\n",
       "std        8.819312\n",
       "min     1925.000000\n",
       "25%     2013.000000\n",
       "50%     2017.000000\n",
       "75%     2019.000000\n",
       "max     2021.000000"
      ]
     },
     "execution_count": 12,
     "metadata": {},
     "output_type": "execute_result"
    }
   ],
   "source": [
    "df.describe()"
   ]
  },
  {
   "cell_type": "code",
   "execution_count": 13,
   "id": "81b2d632",
   "metadata": {},
   "outputs": [
    {
     "data": {
      "text/html": [
       "<div>\n",
       "<style scoped>\n",
       "    .dataframe tbody tr th:only-of-type {\n",
       "        vertical-align: middle;\n",
       "    }\n",
       "\n",
       "    .dataframe tbody tr th {\n",
       "        vertical-align: top;\n",
       "    }\n",
       "\n",
       "    .dataframe thead th {\n",
       "        text-align: right;\n",
       "    }\n",
       "</style>\n",
       "<table border=\"1\" class=\"dataframe\">\n",
       "  <thead>\n",
       "    <tr style=\"text-align: right;\">\n",
       "      <th></th>\n",
       "      <th>show_id</th>\n",
       "      <th>type</th>\n",
       "      <th>title</th>\n",
       "      <th>director</th>\n",
       "      <th>cast</th>\n",
       "      <th>country</th>\n",
       "      <th>date_added</th>\n",
       "      <th>release_year</th>\n",
       "      <th>rating</th>\n",
       "      <th>duration</th>\n",
       "      <th>listed_in</th>\n",
       "      <th>description</th>\n",
       "    </tr>\n",
       "  </thead>\n",
       "  <tbody>\n",
       "    <tr>\n",
       "      <th>0</th>\n",
       "      <td>False</td>\n",
       "      <td>False</td>\n",
       "      <td>False</td>\n",
       "      <td>False</td>\n",
       "      <td>True</td>\n",
       "      <td>False</td>\n",
       "      <td>False</td>\n",
       "      <td>False</td>\n",
       "      <td>False</td>\n",
       "      <td>False</td>\n",
       "      <td>False</td>\n",
       "      <td>False</td>\n",
       "    </tr>\n",
       "    <tr>\n",
       "      <th>1</th>\n",
       "      <td>False</td>\n",
       "      <td>False</td>\n",
       "      <td>False</td>\n",
       "      <td>True</td>\n",
       "      <td>False</td>\n",
       "      <td>False</td>\n",
       "      <td>False</td>\n",
       "      <td>False</td>\n",
       "      <td>False</td>\n",
       "      <td>False</td>\n",
       "      <td>False</td>\n",
       "      <td>False</td>\n",
       "    </tr>\n",
       "    <tr>\n",
       "      <th>2</th>\n",
       "      <td>False</td>\n",
       "      <td>False</td>\n",
       "      <td>False</td>\n",
       "      <td>False</td>\n",
       "      <td>False</td>\n",
       "      <td>True</td>\n",
       "      <td>False</td>\n",
       "      <td>False</td>\n",
       "      <td>False</td>\n",
       "      <td>False</td>\n",
       "      <td>False</td>\n",
       "      <td>False</td>\n",
       "    </tr>\n",
       "    <tr>\n",
       "      <th>3</th>\n",
       "      <td>False</td>\n",
       "      <td>False</td>\n",
       "      <td>False</td>\n",
       "      <td>True</td>\n",
       "      <td>True</td>\n",
       "      <td>True</td>\n",
       "      <td>False</td>\n",
       "      <td>False</td>\n",
       "      <td>False</td>\n",
       "      <td>False</td>\n",
       "      <td>False</td>\n",
       "      <td>False</td>\n",
       "    </tr>\n",
       "    <tr>\n",
       "      <th>4</th>\n",
       "      <td>False</td>\n",
       "      <td>False</td>\n",
       "      <td>False</td>\n",
       "      <td>True</td>\n",
       "      <td>False</td>\n",
       "      <td>False</td>\n",
       "      <td>False</td>\n",
       "      <td>False</td>\n",
       "      <td>False</td>\n",
       "      <td>False</td>\n",
       "      <td>False</td>\n",
       "      <td>False</td>\n",
       "    </tr>\n",
       "    <tr>\n",
       "      <th>...</th>\n",
       "      <td>...</td>\n",
       "      <td>...</td>\n",
       "      <td>...</td>\n",
       "      <td>...</td>\n",
       "      <td>...</td>\n",
       "      <td>...</td>\n",
       "      <td>...</td>\n",
       "      <td>...</td>\n",
       "      <td>...</td>\n",
       "      <td>...</td>\n",
       "      <td>...</td>\n",
       "      <td>...</td>\n",
       "    </tr>\n",
       "    <tr>\n",
       "      <th>8802</th>\n",
       "      <td>False</td>\n",
       "      <td>False</td>\n",
       "      <td>False</td>\n",
       "      <td>False</td>\n",
       "      <td>False</td>\n",
       "      <td>False</td>\n",
       "      <td>False</td>\n",
       "      <td>False</td>\n",
       "      <td>False</td>\n",
       "      <td>False</td>\n",
       "      <td>False</td>\n",
       "      <td>False</td>\n",
       "    </tr>\n",
       "    <tr>\n",
       "      <th>8803</th>\n",
       "      <td>False</td>\n",
       "      <td>False</td>\n",
       "      <td>False</td>\n",
       "      <td>True</td>\n",
       "      <td>True</td>\n",
       "      <td>True</td>\n",
       "      <td>False</td>\n",
       "      <td>False</td>\n",
       "      <td>False</td>\n",
       "      <td>False</td>\n",
       "      <td>False</td>\n",
       "      <td>False</td>\n",
       "    </tr>\n",
       "    <tr>\n",
       "      <th>8804</th>\n",
       "      <td>False</td>\n",
       "      <td>False</td>\n",
       "      <td>False</td>\n",
       "      <td>False</td>\n",
       "      <td>False</td>\n",
       "      <td>False</td>\n",
       "      <td>False</td>\n",
       "      <td>False</td>\n",
       "      <td>False</td>\n",
       "      <td>False</td>\n",
       "      <td>False</td>\n",
       "      <td>False</td>\n",
       "    </tr>\n",
       "    <tr>\n",
       "      <th>8805</th>\n",
       "      <td>False</td>\n",
       "      <td>False</td>\n",
       "      <td>False</td>\n",
       "      <td>False</td>\n",
       "      <td>False</td>\n",
       "      <td>False</td>\n",
       "      <td>False</td>\n",
       "      <td>False</td>\n",
       "      <td>False</td>\n",
       "      <td>False</td>\n",
       "      <td>False</td>\n",
       "      <td>False</td>\n",
       "    </tr>\n",
       "    <tr>\n",
       "      <th>8806</th>\n",
       "      <td>False</td>\n",
       "      <td>False</td>\n",
       "      <td>False</td>\n",
       "      <td>False</td>\n",
       "      <td>False</td>\n",
       "      <td>False</td>\n",
       "      <td>False</td>\n",
       "      <td>False</td>\n",
       "      <td>False</td>\n",
       "      <td>False</td>\n",
       "      <td>False</td>\n",
       "      <td>False</td>\n",
       "    </tr>\n",
       "  </tbody>\n",
       "</table>\n",
       "<p>8807 rows × 12 columns</p>\n",
       "</div>"
      ],
      "text/plain": [
       "      show_id   type  title  director   cast  country  date_added  \\\n",
       "0       False  False  False     False   True    False       False   \n",
       "1       False  False  False      True  False    False       False   \n",
       "2       False  False  False     False  False     True       False   \n",
       "3       False  False  False      True   True     True       False   \n",
       "4       False  False  False      True  False    False       False   \n",
       "...       ...    ...    ...       ...    ...      ...         ...   \n",
       "8802    False  False  False     False  False    False       False   \n",
       "8803    False  False  False      True   True     True       False   \n",
       "8804    False  False  False     False  False    False       False   \n",
       "8805    False  False  False     False  False    False       False   \n",
       "8806    False  False  False     False  False    False       False   \n",
       "\n",
       "      release_year  rating  duration  listed_in  description  \n",
       "0            False   False     False      False        False  \n",
       "1            False   False     False      False        False  \n",
       "2            False   False     False      False        False  \n",
       "3            False   False     False      False        False  \n",
       "4            False   False     False      False        False  \n",
       "...            ...     ...       ...        ...          ...  \n",
       "8802         False   False     False      False        False  \n",
       "8803         False   False     False      False        False  \n",
       "8804         False   False     False      False        False  \n",
       "8805         False   False     False      False        False  \n",
       "8806         False   False     False      False        False  \n",
       "\n",
       "[8807 rows x 12 columns]"
      ]
     },
     "execution_count": 13,
     "metadata": {},
     "output_type": "execute_result"
    }
   ],
   "source": [
    "df.isnull()"
   ]
  },
  {
   "cell_type": "code",
   "execution_count": 14,
   "id": "bc45e382",
   "metadata": {},
   "outputs": [
    {
     "data": {
      "text/plain": [
       "show_id            0\n",
       "type               0\n",
       "title              0\n",
       "director        2634\n",
       "cast             825\n",
       "country          831\n",
       "date_added        10\n",
       "release_year       0\n",
       "rating             4\n",
       "duration           3\n",
       "listed_in          0\n",
       "description        0\n",
       "dtype: int64"
      ]
     },
     "execution_count": 14,
     "metadata": {},
     "output_type": "execute_result"
    }
   ],
   "source": [
    "df.isnull().sum()"
   ]
  },
  {
   "cell_type": "code",
   "execution_count": 15,
   "id": "08d03ab0",
   "metadata": {},
   "outputs": [
    {
     "data": {
      "text/html": [
       "<div>\n",
       "<style scoped>\n",
       "    .dataframe tbody tr th:only-of-type {\n",
       "        vertical-align: middle;\n",
       "    }\n",
       "\n",
       "    .dataframe tbody tr th {\n",
       "        vertical-align: top;\n",
       "    }\n",
       "\n",
       "    .dataframe thead th {\n",
       "        text-align: right;\n",
       "    }\n",
       "</style>\n",
       "<table border=\"1\" class=\"dataframe\">\n",
       "  <thead>\n",
       "    <tr style=\"text-align: right;\">\n",
       "      <th></th>\n",
       "      <th>show_id</th>\n",
       "      <th>type</th>\n",
       "      <th>title</th>\n",
       "      <th>director</th>\n",
       "      <th>cast</th>\n",
       "      <th>country</th>\n",
       "      <th>date_added</th>\n",
       "      <th>release_year</th>\n",
       "      <th>rating</th>\n",
       "      <th>duration</th>\n",
       "      <th>listed_in</th>\n",
       "      <th>description</th>\n",
       "    </tr>\n",
       "  </thead>\n",
       "  <tbody>\n",
       "    <tr>\n",
       "      <th>0</th>\n",
       "      <td>s1</td>\n",
       "      <td>Movie</td>\n",
       "      <td>Dick Johnson Is Dead</td>\n",
       "      <td>Kirsten Johnson</td>\n",
       "      <td>NaN</td>\n",
       "      <td>United States</td>\n",
       "      <td>September 25, 2021</td>\n",
       "      <td>2020</td>\n",
       "      <td>PG-13</td>\n",
       "      <td>90 min</td>\n",
       "      <td>Documentaries</td>\n",
       "      <td>As her father nears the end of his life, filmm...</td>\n",
       "    </tr>\n",
       "    <tr>\n",
       "      <th>1</th>\n",
       "      <td>s2</td>\n",
       "      <td>TV Show</td>\n",
       "      <td>Blood &amp; Water</td>\n",
       "      <td>NaN</td>\n",
       "      <td>Ama Qamata, Khosi Ngema, Gail Mabalane, Thaban...</td>\n",
       "      <td>South Africa</td>\n",
       "      <td>September 24, 2021</td>\n",
       "      <td>2021</td>\n",
       "      <td>TV-MA</td>\n",
       "      <td>2 Seasons</td>\n",
       "      <td>International TV Shows, TV Dramas, TV Mysteries</td>\n",
       "      <td>After crossing paths at a party, a Cape Town t...</td>\n",
       "    </tr>\n",
       "    <tr>\n",
       "      <th>2</th>\n",
       "      <td>s3</td>\n",
       "      <td>TV Show</td>\n",
       "      <td>Ganglands</td>\n",
       "      <td>Julien Leclercq</td>\n",
       "      <td>Sami Bouajila, Tracy Gotoas, Samuel Jouy, Nabi...</td>\n",
       "      <td>NaN</td>\n",
       "      <td>September 24, 2021</td>\n",
       "      <td>2021</td>\n",
       "      <td>TV-MA</td>\n",
       "      <td>1 Season</td>\n",
       "      <td>Crime TV Shows, International TV Shows, TV Act...</td>\n",
       "      <td>To protect his family from a powerful drug lor...</td>\n",
       "    </tr>\n",
       "    <tr>\n",
       "      <th>3</th>\n",
       "      <td>s4</td>\n",
       "      <td>TV Show</td>\n",
       "      <td>Jailbirds New Orleans</td>\n",
       "      <td>NaN</td>\n",
       "      <td>NaN</td>\n",
       "      <td>NaN</td>\n",
       "      <td>September 24, 2021</td>\n",
       "      <td>2021</td>\n",
       "      <td>TV-MA</td>\n",
       "      <td>1 Season</td>\n",
       "      <td>Docuseries, Reality TV</td>\n",
       "      <td>Feuds, flirtations and toilet talk go down amo...</td>\n",
       "    </tr>\n",
       "    <tr>\n",
       "      <th>4</th>\n",
       "      <td>s5</td>\n",
       "      <td>TV Show</td>\n",
       "      <td>Kota Factory</td>\n",
       "      <td>NaN</td>\n",
       "      <td>Mayur More, Jitendra Kumar, Ranjan Raj, Alam K...</td>\n",
       "      <td>India</td>\n",
       "      <td>September 24, 2021</td>\n",
       "      <td>2021</td>\n",
       "      <td>TV-MA</td>\n",
       "      <td>2 Seasons</td>\n",
       "      <td>International TV Shows, Romantic TV Shows, TV ...</td>\n",
       "      <td>In a city of coaching centers known to train I...</td>\n",
       "    </tr>\n",
       "  </tbody>\n",
       "</table>\n",
       "</div>"
      ],
      "text/plain": [
       "  show_id     type                  title         director  \\\n",
       "0      s1    Movie   Dick Johnson Is Dead  Kirsten Johnson   \n",
       "1      s2  TV Show          Blood & Water              NaN   \n",
       "2      s3  TV Show              Ganglands  Julien Leclercq   \n",
       "3      s4  TV Show  Jailbirds New Orleans              NaN   \n",
       "4      s5  TV Show           Kota Factory              NaN   \n",
       "\n",
       "                                                cast        country  \\\n",
       "0                                                NaN  United States   \n",
       "1  Ama Qamata, Khosi Ngema, Gail Mabalane, Thaban...   South Africa   \n",
       "2  Sami Bouajila, Tracy Gotoas, Samuel Jouy, Nabi...            NaN   \n",
       "3                                                NaN            NaN   \n",
       "4  Mayur More, Jitendra Kumar, Ranjan Raj, Alam K...          India   \n",
       "\n",
       "           date_added  release_year rating   duration  \\\n",
       "0  September 25, 2021          2020  PG-13     90 min   \n",
       "1  September 24, 2021          2021  TV-MA  2 Seasons   \n",
       "2  September 24, 2021          2021  TV-MA   1 Season   \n",
       "3  September 24, 2021          2021  TV-MA   1 Season   \n",
       "4  September 24, 2021          2021  TV-MA  2 Seasons   \n",
       "\n",
       "                                           listed_in  \\\n",
       "0                                      Documentaries   \n",
       "1    International TV Shows, TV Dramas, TV Mysteries   \n",
       "2  Crime TV Shows, International TV Shows, TV Act...   \n",
       "3                             Docuseries, Reality TV   \n",
       "4  International TV Shows, Romantic TV Shows, TV ...   \n",
       "\n",
       "                                         description  \n",
       "0  As her father nears the end of his life, filmm...  \n",
       "1  After crossing paths at a party, a Cape Town t...  \n",
       "2  To protect his family from a powerful drug lor...  \n",
       "3  Feuds, flirtations and toilet talk go down amo...  \n",
       "4  In a city of coaching centers known to train I...  "
      ]
     },
     "execution_count": 15,
     "metadata": {},
     "output_type": "execute_result"
    }
   ],
   "source": [
    "df.head(5)"
   ]
  },
  {
   "cell_type": "code",
   "execution_count": 16,
   "id": "dd71fcb6",
   "metadata": {},
   "outputs": [
    {
     "name": "stdout",
     "output_type": "stream",
     "text": [
      "<class 'pandas.core.frame.DataFrame'>\n",
      "RangeIndex: 8807 entries, 0 to 8806\n",
      "Data columns (total 12 columns):\n",
      " #   Column        Non-Null Count  Dtype \n",
      "---  ------        --------------  ----- \n",
      " 0   show_id       8807 non-null   object\n",
      " 1   type          8807 non-null   object\n",
      " 2   title         8807 non-null   object\n",
      " 3   director      6173 non-null   object\n",
      " 4   cast          7982 non-null   object\n",
      " 5   country       7976 non-null   object\n",
      " 6   date_added    8797 non-null   object\n",
      " 7   release_year  8807 non-null   int64 \n",
      " 8   rating        8803 non-null   object\n",
      " 9   duration      8804 non-null   object\n",
      " 10  listed_in     8807 non-null   object\n",
      " 11  description   8807 non-null   object\n",
      "dtypes: int64(1), object(11)\n",
      "memory usage: 825.8+ KB\n"
     ]
    }
   ],
   "source": [
    "df.info()"
   ]
  },
  {
   "cell_type": "code",
   "execution_count": 17,
   "id": "11085bcb",
   "metadata": {},
   "outputs": [
    {
     "data": {
      "text/html": [
       "<div>\n",
       "<style scoped>\n",
       "    .dataframe tbody tr th:only-of-type {\n",
       "        vertical-align: middle;\n",
       "    }\n",
       "\n",
       "    .dataframe tbody tr th {\n",
       "        vertical-align: top;\n",
       "    }\n",
       "\n",
       "    .dataframe thead th {\n",
       "        text-align: right;\n",
       "    }\n",
       "</style>\n",
       "<table border=\"1\" class=\"dataframe\">\n",
       "  <thead>\n",
       "    <tr style=\"text-align: right;\">\n",
       "      <th></th>\n",
       "      <th>show_id</th>\n",
       "      <th>type</th>\n",
       "      <th>title</th>\n",
       "      <th>director</th>\n",
       "      <th>cast</th>\n",
       "      <th>country</th>\n",
       "      <th>date_added</th>\n",
       "      <th>release_year</th>\n",
       "      <th>rating</th>\n",
       "      <th>duration</th>\n",
       "      <th>listed_in</th>\n",
       "      <th>description</th>\n",
       "    </tr>\n",
       "  </thead>\n",
       "  <tbody>\n",
       "    <tr>\n",
       "      <th>7</th>\n",
       "      <td>s8</td>\n",
       "      <td>Movie</td>\n",
       "      <td>Sankofa</td>\n",
       "      <td>Haile Gerima</td>\n",
       "      <td>Kofi Ghanaba, Oyafunmike Ogunlano, Alexandra D...</td>\n",
       "      <td>United States, Ghana, Burkina Faso, United Kin...</td>\n",
       "      <td>September 24, 2021</td>\n",
       "      <td>1993</td>\n",
       "      <td>TV-MA</td>\n",
       "      <td>125 min</td>\n",
       "      <td>Dramas, Independent Movies, International Movies</td>\n",
       "      <td>On a photo shoot in Ghana, an American model s...</td>\n",
       "    </tr>\n",
       "    <tr>\n",
       "      <th>8</th>\n",
       "      <td>s9</td>\n",
       "      <td>TV Show</td>\n",
       "      <td>The Great British Baking Show</td>\n",
       "      <td>Andy Devonshire</td>\n",
       "      <td>Mel Giedroyc, Sue Perkins, Mary Berry, Paul Ho...</td>\n",
       "      <td>United Kingdom</td>\n",
       "      <td>September 24, 2021</td>\n",
       "      <td>2021</td>\n",
       "      <td>TV-14</td>\n",
       "      <td>9 Seasons</td>\n",
       "      <td>British TV Shows, Reality TV</td>\n",
       "      <td>A talented batch of amateur bakers face off in...</td>\n",
       "    </tr>\n",
       "    <tr>\n",
       "      <th>9</th>\n",
       "      <td>s10</td>\n",
       "      <td>Movie</td>\n",
       "      <td>The Starling</td>\n",
       "      <td>Theodore Melfi</td>\n",
       "      <td>Melissa McCarthy, Chris O'Dowd, Kevin Kline, T...</td>\n",
       "      <td>United States</td>\n",
       "      <td>September 24, 2021</td>\n",
       "      <td>2021</td>\n",
       "      <td>PG-13</td>\n",
       "      <td>104 min</td>\n",
       "      <td>Comedies, Dramas</td>\n",
       "      <td>A woman adjusting to life after a loss contend...</td>\n",
       "    </tr>\n",
       "    <tr>\n",
       "      <th>12</th>\n",
       "      <td>s13</td>\n",
       "      <td>Movie</td>\n",
       "      <td>Je Suis Karl</td>\n",
       "      <td>Christian Schwochow</td>\n",
       "      <td>Luna Wedler, Jannis Niewöhner, Milan Peschel, ...</td>\n",
       "      <td>Germany, Czech Republic</td>\n",
       "      <td>September 23, 2021</td>\n",
       "      <td>2021</td>\n",
       "      <td>TV-MA</td>\n",
       "      <td>127 min</td>\n",
       "      <td>Dramas, International Movies</td>\n",
       "      <td>After most of her family is murdered in a terr...</td>\n",
       "    </tr>\n",
       "    <tr>\n",
       "      <th>24</th>\n",
       "      <td>s25</td>\n",
       "      <td>Movie</td>\n",
       "      <td>Jeans</td>\n",
       "      <td>S. Shankar</td>\n",
       "      <td>Prashanth, Aishwarya Rai Bachchan, Sri Lakshmi...</td>\n",
       "      <td>India</td>\n",
       "      <td>September 21, 2021</td>\n",
       "      <td>1998</td>\n",
       "      <td>TV-14</td>\n",
       "      <td>166 min</td>\n",
       "      <td>Comedies, International Movies, Romantic Movies</td>\n",
       "      <td>When the father of the man she loves insists t...</td>\n",
       "    </tr>\n",
       "    <tr>\n",
       "      <th>...</th>\n",
       "      <td>...</td>\n",
       "      <td>...</td>\n",
       "      <td>...</td>\n",
       "      <td>...</td>\n",
       "      <td>...</td>\n",
       "      <td>...</td>\n",
       "      <td>...</td>\n",
       "      <td>...</td>\n",
       "      <td>...</td>\n",
       "      <td>...</td>\n",
       "      <td>...</td>\n",
       "      <td>...</td>\n",
       "    </tr>\n",
       "    <tr>\n",
       "      <th>8801</th>\n",
       "      <td>s8802</td>\n",
       "      <td>Movie</td>\n",
       "      <td>Zinzana</td>\n",
       "      <td>Majid Al Ansari</td>\n",
       "      <td>Ali Suliman, Saleh Bakri, Yasa, Ali Al-Jabri, ...</td>\n",
       "      <td>United Arab Emirates, Jordan</td>\n",
       "      <td>March 9, 2016</td>\n",
       "      <td>2015</td>\n",
       "      <td>TV-MA</td>\n",
       "      <td>96 min</td>\n",
       "      <td>Dramas, International Movies, Thrillers</td>\n",
       "      <td>Recovering alcoholic Talal wakes up inside a s...</td>\n",
       "    </tr>\n",
       "    <tr>\n",
       "      <th>8802</th>\n",
       "      <td>s8803</td>\n",
       "      <td>Movie</td>\n",
       "      <td>Zodiac</td>\n",
       "      <td>David Fincher</td>\n",
       "      <td>Mark Ruffalo, Jake Gyllenhaal, Robert Downey J...</td>\n",
       "      <td>United States</td>\n",
       "      <td>November 20, 2019</td>\n",
       "      <td>2007</td>\n",
       "      <td>R</td>\n",
       "      <td>158 min</td>\n",
       "      <td>Cult Movies, Dramas, Thrillers</td>\n",
       "      <td>A political cartoonist, a crime reporter and a...</td>\n",
       "    </tr>\n",
       "    <tr>\n",
       "      <th>8804</th>\n",
       "      <td>s8805</td>\n",
       "      <td>Movie</td>\n",
       "      <td>Zombieland</td>\n",
       "      <td>Ruben Fleischer</td>\n",
       "      <td>Jesse Eisenberg, Woody Harrelson, Emma Stone, ...</td>\n",
       "      <td>United States</td>\n",
       "      <td>November 1, 2019</td>\n",
       "      <td>2009</td>\n",
       "      <td>R</td>\n",
       "      <td>88 min</td>\n",
       "      <td>Comedies, Horror Movies</td>\n",
       "      <td>Looking to survive in a world taken over by zo...</td>\n",
       "    </tr>\n",
       "    <tr>\n",
       "      <th>8805</th>\n",
       "      <td>s8806</td>\n",
       "      <td>Movie</td>\n",
       "      <td>Zoom</td>\n",
       "      <td>Peter Hewitt</td>\n",
       "      <td>Tim Allen, Courteney Cox, Chevy Chase, Kate Ma...</td>\n",
       "      <td>United States</td>\n",
       "      <td>January 11, 2020</td>\n",
       "      <td>2006</td>\n",
       "      <td>PG</td>\n",
       "      <td>88 min</td>\n",
       "      <td>Children &amp; Family Movies, Comedies</td>\n",
       "      <td>Dragged from civilian life, a former superhero...</td>\n",
       "    </tr>\n",
       "    <tr>\n",
       "      <th>8806</th>\n",
       "      <td>s8807</td>\n",
       "      <td>Movie</td>\n",
       "      <td>Zubaan</td>\n",
       "      <td>Mozez Singh</td>\n",
       "      <td>Vicky Kaushal, Sarah-Jane Dias, Raaghav Chanan...</td>\n",
       "      <td>India</td>\n",
       "      <td>March 2, 2019</td>\n",
       "      <td>2015</td>\n",
       "      <td>TV-14</td>\n",
       "      <td>111 min</td>\n",
       "      <td>Dramas, International Movies, Music &amp; Musicals</td>\n",
       "      <td>A scrappy but poor boy worms his way into a ty...</td>\n",
       "    </tr>\n",
       "  </tbody>\n",
       "</table>\n",
       "<p>5332 rows × 12 columns</p>\n",
       "</div>"
      ],
      "text/plain": [
       "     show_id     type                          title             director  \\\n",
       "7         s8    Movie                        Sankofa         Haile Gerima   \n",
       "8         s9  TV Show  The Great British Baking Show      Andy Devonshire   \n",
       "9        s10    Movie                   The Starling       Theodore Melfi   \n",
       "12       s13    Movie                   Je Suis Karl  Christian Schwochow   \n",
       "24       s25    Movie                          Jeans           S. Shankar   \n",
       "...      ...      ...                            ...                  ...   \n",
       "8801   s8802    Movie                        Zinzana      Majid Al Ansari   \n",
       "8802   s8803    Movie                         Zodiac        David Fincher   \n",
       "8804   s8805    Movie                     Zombieland      Ruben Fleischer   \n",
       "8805   s8806    Movie                           Zoom         Peter Hewitt   \n",
       "8806   s8807    Movie                         Zubaan          Mozez Singh   \n",
       "\n",
       "                                                   cast  \\\n",
       "7     Kofi Ghanaba, Oyafunmike Ogunlano, Alexandra D...   \n",
       "8     Mel Giedroyc, Sue Perkins, Mary Berry, Paul Ho...   \n",
       "9     Melissa McCarthy, Chris O'Dowd, Kevin Kline, T...   \n",
       "12    Luna Wedler, Jannis Niewöhner, Milan Peschel, ...   \n",
       "24    Prashanth, Aishwarya Rai Bachchan, Sri Lakshmi...   \n",
       "...                                                 ...   \n",
       "8801  Ali Suliman, Saleh Bakri, Yasa, Ali Al-Jabri, ...   \n",
       "8802  Mark Ruffalo, Jake Gyllenhaal, Robert Downey J...   \n",
       "8804  Jesse Eisenberg, Woody Harrelson, Emma Stone, ...   \n",
       "8805  Tim Allen, Courteney Cox, Chevy Chase, Kate Ma...   \n",
       "8806  Vicky Kaushal, Sarah-Jane Dias, Raaghav Chanan...   \n",
       "\n",
       "                                                country          date_added  \\\n",
       "7     United States, Ghana, Burkina Faso, United Kin...  September 24, 2021   \n",
       "8                                        United Kingdom  September 24, 2021   \n",
       "9                                         United States  September 24, 2021   \n",
       "12                              Germany, Czech Republic  September 23, 2021   \n",
       "24                                                India  September 21, 2021   \n",
       "...                                                 ...                 ...   \n",
       "8801                       United Arab Emirates, Jordan       March 9, 2016   \n",
       "8802                                      United States   November 20, 2019   \n",
       "8804                                      United States    November 1, 2019   \n",
       "8805                                      United States    January 11, 2020   \n",
       "8806                                              India       March 2, 2019   \n",
       "\n",
       "      release_year rating   duration  \\\n",
       "7             1993  TV-MA    125 min   \n",
       "8             2021  TV-14  9 Seasons   \n",
       "9             2021  PG-13    104 min   \n",
       "12            2021  TV-MA    127 min   \n",
       "24            1998  TV-14    166 min   \n",
       "...            ...    ...        ...   \n",
       "8801          2015  TV-MA     96 min   \n",
       "8802          2007      R    158 min   \n",
       "8804          2009      R     88 min   \n",
       "8805          2006     PG     88 min   \n",
       "8806          2015  TV-14    111 min   \n",
       "\n",
       "                                             listed_in  \\\n",
       "7     Dramas, Independent Movies, International Movies   \n",
       "8                         British TV Shows, Reality TV   \n",
       "9                                     Comedies, Dramas   \n",
       "12                        Dramas, International Movies   \n",
       "24     Comedies, International Movies, Romantic Movies   \n",
       "...                                                ...   \n",
       "8801           Dramas, International Movies, Thrillers   \n",
       "8802                    Cult Movies, Dramas, Thrillers   \n",
       "8804                           Comedies, Horror Movies   \n",
       "8805                Children & Family Movies, Comedies   \n",
       "8806    Dramas, International Movies, Music & Musicals   \n",
       "\n",
       "                                            description  \n",
       "7     On a photo shoot in Ghana, an American model s...  \n",
       "8     A talented batch of amateur bakers face off in...  \n",
       "9     A woman adjusting to life after a loss contend...  \n",
       "12    After most of her family is murdered in a terr...  \n",
       "24    When the father of the man she loves insists t...  \n",
       "...                                                 ...  \n",
       "8801  Recovering alcoholic Talal wakes up inside a s...  \n",
       "8802  A political cartoonist, a crime reporter and a...  \n",
       "8804  Looking to survive in a world taken over by zo...  \n",
       "8805  Dragged from civilian life, a former superhero...  \n",
       "8806  A scrappy but poor boy worms his way into a ty...  \n",
       "\n",
       "[5332 rows x 12 columns]"
      ]
     },
     "execution_count": 17,
     "metadata": {},
     "output_type": "execute_result"
    }
   ],
   "source": [
    "df.dropna()"
   ]
  },
  {
   "cell_type": "code",
   "execution_count": 18,
   "id": "78897382",
   "metadata": {},
   "outputs": [
    {
     "data": {
      "text/html": [
       "<div>\n",
       "<style scoped>\n",
       "    .dataframe tbody tr th:only-of-type {\n",
       "        vertical-align: middle;\n",
       "    }\n",
       "\n",
       "    .dataframe tbody tr th {\n",
       "        vertical-align: top;\n",
       "    }\n",
       "\n",
       "    .dataframe thead th {\n",
       "        text-align: right;\n",
       "    }\n",
       "</style>\n",
       "<table border=\"1\" class=\"dataframe\">\n",
       "  <thead>\n",
       "    <tr style=\"text-align: right;\">\n",
       "      <th></th>\n",
       "      <th>show_id</th>\n",
       "      <th>type</th>\n",
       "      <th>title</th>\n",
       "      <th>director</th>\n",
       "      <th>cast</th>\n",
       "      <th>country</th>\n",
       "      <th>date_added</th>\n",
       "      <th>release_year</th>\n",
       "      <th>rating</th>\n",
       "      <th>duration</th>\n",
       "      <th>listed_in</th>\n",
       "      <th>description</th>\n",
       "    </tr>\n",
       "  </thead>\n",
       "  <tbody>\n",
       "    <tr>\n",
       "      <th>7</th>\n",
       "      <td>s8</td>\n",
       "      <td>Movie</td>\n",
       "      <td>Sankofa</td>\n",
       "      <td>Haile Gerima</td>\n",
       "      <td>Kofi Ghanaba, Oyafunmike Ogunlano, Alexandra D...</td>\n",
       "      <td>United States, Ghana, Burkina Faso, United Kin...</td>\n",
       "      <td>September 24, 2021</td>\n",
       "      <td>1993</td>\n",
       "      <td>TV-MA</td>\n",
       "      <td>125 min</td>\n",
       "      <td>Dramas, Independent Movies, International Movies</td>\n",
       "      <td>On a photo shoot in Ghana, an American model s...</td>\n",
       "    </tr>\n",
       "    <tr>\n",
       "      <th>8</th>\n",
       "      <td>s9</td>\n",
       "      <td>TV Show</td>\n",
       "      <td>The Great British Baking Show</td>\n",
       "      <td>Andy Devonshire</td>\n",
       "      <td>Mel Giedroyc, Sue Perkins, Mary Berry, Paul Ho...</td>\n",
       "      <td>United Kingdom</td>\n",
       "      <td>September 24, 2021</td>\n",
       "      <td>2021</td>\n",
       "      <td>TV-14</td>\n",
       "      <td>9 Seasons</td>\n",
       "      <td>British TV Shows, Reality TV</td>\n",
       "      <td>A talented batch of amateur bakers face off in...</td>\n",
       "    </tr>\n",
       "    <tr>\n",
       "      <th>9</th>\n",
       "      <td>s10</td>\n",
       "      <td>Movie</td>\n",
       "      <td>The Starling</td>\n",
       "      <td>Theodore Melfi</td>\n",
       "      <td>Melissa McCarthy, Chris O'Dowd, Kevin Kline, T...</td>\n",
       "      <td>United States</td>\n",
       "      <td>September 24, 2021</td>\n",
       "      <td>2021</td>\n",
       "      <td>PG-13</td>\n",
       "      <td>104 min</td>\n",
       "      <td>Comedies, Dramas</td>\n",
       "      <td>A woman adjusting to life after a loss contend...</td>\n",
       "    </tr>\n",
       "    <tr>\n",
       "      <th>12</th>\n",
       "      <td>s13</td>\n",
       "      <td>Movie</td>\n",
       "      <td>Je Suis Karl</td>\n",
       "      <td>Christian Schwochow</td>\n",
       "      <td>Luna Wedler, Jannis Niewöhner, Milan Peschel, ...</td>\n",
       "      <td>Germany, Czech Republic</td>\n",
       "      <td>September 23, 2021</td>\n",
       "      <td>2021</td>\n",
       "      <td>TV-MA</td>\n",
       "      <td>127 min</td>\n",
       "      <td>Dramas, International Movies</td>\n",
       "      <td>After most of her family is murdered in a terr...</td>\n",
       "    </tr>\n",
       "    <tr>\n",
       "      <th>24</th>\n",
       "      <td>s25</td>\n",
       "      <td>Movie</td>\n",
       "      <td>Jeans</td>\n",
       "      <td>S. Shankar</td>\n",
       "      <td>Prashanth, Aishwarya Rai Bachchan, Sri Lakshmi...</td>\n",
       "      <td>India</td>\n",
       "      <td>September 21, 2021</td>\n",
       "      <td>1998</td>\n",
       "      <td>TV-14</td>\n",
       "      <td>166 min</td>\n",
       "      <td>Comedies, International Movies, Romantic Movies</td>\n",
       "      <td>When the father of the man she loves insists t...</td>\n",
       "    </tr>\n",
       "    <tr>\n",
       "      <th>...</th>\n",
       "      <td>...</td>\n",
       "      <td>...</td>\n",
       "      <td>...</td>\n",
       "      <td>...</td>\n",
       "      <td>...</td>\n",
       "      <td>...</td>\n",
       "      <td>...</td>\n",
       "      <td>...</td>\n",
       "      <td>...</td>\n",
       "      <td>...</td>\n",
       "      <td>...</td>\n",
       "      <td>...</td>\n",
       "    </tr>\n",
       "    <tr>\n",
       "      <th>8801</th>\n",
       "      <td>s8802</td>\n",
       "      <td>Movie</td>\n",
       "      <td>Zinzana</td>\n",
       "      <td>Majid Al Ansari</td>\n",
       "      <td>Ali Suliman, Saleh Bakri, Yasa, Ali Al-Jabri, ...</td>\n",
       "      <td>United Arab Emirates, Jordan</td>\n",
       "      <td>March 9, 2016</td>\n",
       "      <td>2015</td>\n",
       "      <td>TV-MA</td>\n",
       "      <td>96 min</td>\n",
       "      <td>Dramas, International Movies, Thrillers</td>\n",
       "      <td>Recovering alcoholic Talal wakes up inside a s...</td>\n",
       "    </tr>\n",
       "    <tr>\n",
       "      <th>8802</th>\n",
       "      <td>s8803</td>\n",
       "      <td>Movie</td>\n",
       "      <td>Zodiac</td>\n",
       "      <td>David Fincher</td>\n",
       "      <td>Mark Ruffalo, Jake Gyllenhaal, Robert Downey J...</td>\n",
       "      <td>United States</td>\n",
       "      <td>November 20, 2019</td>\n",
       "      <td>2007</td>\n",
       "      <td>R</td>\n",
       "      <td>158 min</td>\n",
       "      <td>Cult Movies, Dramas, Thrillers</td>\n",
       "      <td>A political cartoonist, a crime reporter and a...</td>\n",
       "    </tr>\n",
       "    <tr>\n",
       "      <th>8804</th>\n",
       "      <td>s8805</td>\n",
       "      <td>Movie</td>\n",
       "      <td>Zombieland</td>\n",
       "      <td>Ruben Fleischer</td>\n",
       "      <td>Jesse Eisenberg, Woody Harrelson, Emma Stone, ...</td>\n",
       "      <td>United States</td>\n",
       "      <td>November 1, 2019</td>\n",
       "      <td>2009</td>\n",
       "      <td>R</td>\n",
       "      <td>88 min</td>\n",
       "      <td>Comedies, Horror Movies</td>\n",
       "      <td>Looking to survive in a world taken over by zo...</td>\n",
       "    </tr>\n",
       "    <tr>\n",
       "      <th>8805</th>\n",
       "      <td>s8806</td>\n",
       "      <td>Movie</td>\n",
       "      <td>Zoom</td>\n",
       "      <td>Peter Hewitt</td>\n",
       "      <td>Tim Allen, Courteney Cox, Chevy Chase, Kate Ma...</td>\n",
       "      <td>United States</td>\n",
       "      <td>January 11, 2020</td>\n",
       "      <td>2006</td>\n",
       "      <td>PG</td>\n",
       "      <td>88 min</td>\n",
       "      <td>Children &amp; Family Movies, Comedies</td>\n",
       "      <td>Dragged from civilian life, a former superhero...</td>\n",
       "    </tr>\n",
       "    <tr>\n",
       "      <th>8806</th>\n",
       "      <td>s8807</td>\n",
       "      <td>Movie</td>\n",
       "      <td>Zubaan</td>\n",
       "      <td>Mozez Singh</td>\n",
       "      <td>Vicky Kaushal, Sarah-Jane Dias, Raaghav Chanan...</td>\n",
       "      <td>India</td>\n",
       "      <td>March 2, 2019</td>\n",
       "      <td>2015</td>\n",
       "      <td>TV-14</td>\n",
       "      <td>111 min</td>\n",
       "      <td>Dramas, International Movies, Music &amp; Musicals</td>\n",
       "      <td>A scrappy but poor boy worms his way into a ty...</td>\n",
       "    </tr>\n",
       "  </tbody>\n",
       "</table>\n",
       "<p>5332 rows × 12 columns</p>\n",
       "</div>"
      ],
      "text/plain": [
       "     show_id     type                          title             director  \\\n",
       "7         s8    Movie                        Sankofa         Haile Gerima   \n",
       "8         s9  TV Show  The Great British Baking Show      Andy Devonshire   \n",
       "9        s10    Movie                   The Starling       Theodore Melfi   \n",
       "12       s13    Movie                   Je Suis Karl  Christian Schwochow   \n",
       "24       s25    Movie                          Jeans           S. Shankar   \n",
       "...      ...      ...                            ...                  ...   \n",
       "8801   s8802    Movie                        Zinzana      Majid Al Ansari   \n",
       "8802   s8803    Movie                         Zodiac        David Fincher   \n",
       "8804   s8805    Movie                     Zombieland      Ruben Fleischer   \n",
       "8805   s8806    Movie                           Zoom         Peter Hewitt   \n",
       "8806   s8807    Movie                         Zubaan          Mozez Singh   \n",
       "\n",
       "                                                   cast  \\\n",
       "7     Kofi Ghanaba, Oyafunmike Ogunlano, Alexandra D...   \n",
       "8     Mel Giedroyc, Sue Perkins, Mary Berry, Paul Ho...   \n",
       "9     Melissa McCarthy, Chris O'Dowd, Kevin Kline, T...   \n",
       "12    Luna Wedler, Jannis Niewöhner, Milan Peschel, ...   \n",
       "24    Prashanth, Aishwarya Rai Bachchan, Sri Lakshmi...   \n",
       "...                                                 ...   \n",
       "8801  Ali Suliman, Saleh Bakri, Yasa, Ali Al-Jabri, ...   \n",
       "8802  Mark Ruffalo, Jake Gyllenhaal, Robert Downey J...   \n",
       "8804  Jesse Eisenberg, Woody Harrelson, Emma Stone, ...   \n",
       "8805  Tim Allen, Courteney Cox, Chevy Chase, Kate Ma...   \n",
       "8806  Vicky Kaushal, Sarah-Jane Dias, Raaghav Chanan...   \n",
       "\n",
       "                                                country          date_added  \\\n",
       "7     United States, Ghana, Burkina Faso, United Kin...  September 24, 2021   \n",
       "8                                        United Kingdom  September 24, 2021   \n",
       "9                                         United States  September 24, 2021   \n",
       "12                              Germany, Czech Republic  September 23, 2021   \n",
       "24                                                India  September 21, 2021   \n",
       "...                                                 ...                 ...   \n",
       "8801                       United Arab Emirates, Jordan       March 9, 2016   \n",
       "8802                                      United States   November 20, 2019   \n",
       "8804                                      United States    November 1, 2019   \n",
       "8805                                      United States    January 11, 2020   \n",
       "8806                                              India       March 2, 2019   \n",
       "\n",
       "      release_year rating   duration  \\\n",
       "7             1993  TV-MA    125 min   \n",
       "8             2021  TV-14  9 Seasons   \n",
       "9             2021  PG-13    104 min   \n",
       "12            2021  TV-MA    127 min   \n",
       "24            1998  TV-14    166 min   \n",
       "...            ...    ...        ...   \n",
       "8801          2015  TV-MA     96 min   \n",
       "8802          2007      R    158 min   \n",
       "8804          2009      R     88 min   \n",
       "8805          2006     PG     88 min   \n",
       "8806          2015  TV-14    111 min   \n",
       "\n",
       "                                             listed_in  \\\n",
       "7     Dramas, Independent Movies, International Movies   \n",
       "8                         British TV Shows, Reality TV   \n",
       "9                                     Comedies, Dramas   \n",
       "12                        Dramas, International Movies   \n",
       "24     Comedies, International Movies, Romantic Movies   \n",
       "...                                                ...   \n",
       "8801           Dramas, International Movies, Thrillers   \n",
       "8802                    Cult Movies, Dramas, Thrillers   \n",
       "8804                           Comedies, Horror Movies   \n",
       "8805                Children & Family Movies, Comedies   \n",
       "8806    Dramas, International Movies, Music & Musicals   \n",
       "\n",
       "                                            description  \n",
       "7     On a photo shoot in Ghana, an American model s...  \n",
       "8     A talented batch of amateur bakers face off in...  \n",
       "9     A woman adjusting to life after a loss contend...  \n",
       "12    After most of her family is murdered in a terr...  \n",
       "24    When the father of the man she loves insists t...  \n",
       "...                                                 ...  \n",
       "8801  Recovering alcoholic Talal wakes up inside a s...  \n",
       "8802  A political cartoonist, a crime reporter and a...  \n",
       "8804  Looking to survive in a world taken over by zo...  \n",
       "8805  Dragged from civilian life, a former superhero...  \n",
       "8806  A scrappy but poor boy worms his way into a ty...  \n",
       "\n",
       "[5332 rows x 12 columns]"
      ]
     },
     "execution_count": 18,
     "metadata": {},
     "output_type": "execute_result"
    }
   ],
   "source": [
    "df.dropna()"
   ]
  },
  {
   "cell_type": "code",
   "execution_count": 19,
   "id": "e59942f2",
   "metadata": {},
   "outputs": [
    {
     "data": {
      "text/html": [
       "<div>\n",
       "<style scoped>\n",
       "    .dataframe tbody tr th:only-of-type {\n",
       "        vertical-align: middle;\n",
       "    }\n",
       "\n",
       "    .dataframe tbody tr th {\n",
       "        vertical-align: top;\n",
       "    }\n",
       "\n",
       "    .dataframe thead th {\n",
       "        text-align: right;\n",
       "    }\n",
       "</style>\n",
       "<table border=\"1\" class=\"dataframe\">\n",
       "  <thead>\n",
       "    <tr style=\"text-align: right;\">\n",
       "      <th></th>\n",
       "      <th>show_id</th>\n",
       "      <th>type</th>\n",
       "      <th>title</th>\n",
       "      <th>release_year</th>\n",
       "      <th>listed_in</th>\n",
       "      <th>description</th>\n",
       "    </tr>\n",
       "  </thead>\n",
       "  <tbody>\n",
       "    <tr>\n",
       "      <th>0</th>\n",
       "      <td>s1</td>\n",
       "      <td>Movie</td>\n",
       "      <td>Dick Johnson Is Dead</td>\n",
       "      <td>2020</td>\n",
       "      <td>Documentaries</td>\n",
       "      <td>As her father nears the end of his life, filmm...</td>\n",
       "    </tr>\n",
       "    <tr>\n",
       "      <th>1</th>\n",
       "      <td>s2</td>\n",
       "      <td>TV Show</td>\n",
       "      <td>Blood &amp; Water</td>\n",
       "      <td>2021</td>\n",
       "      <td>International TV Shows, TV Dramas, TV Mysteries</td>\n",
       "      <td>After crossing paths at a party, a Cape Town t...</td>\n",
       "    </tr>\n",
       "    <tr>\n",
       "      <th>2</th>\n",
       "      <td>s3</td>\n",
       "      <td>TV Show</td>\n",
       "      <td>Ganglands</td>\n",
       "      <td>2021</td>\n",
       "      <td>Crime TV Shows, International TV Shows, TV Act...</td>\n",
       "      <td>To protect his family from a powerful drug lor...</td>\n",
       "    </tr>\n",
       "    <tr>\n",
       "      <th>3</th>\n",
       "      <td>s4</td>\n",
       "      <td>TV Show</td>\n",
       "      <td>Jailbirds New Orleans</td>\n",
       "      <td>2021</td>\n",
       "      <td>Docuseries, Reality TV</td>\n",
       "      <td>Feuds, flirtations and toilet talk go down amo...</td>\n",
       "    </tr>\n",
       "    <tr>\n",
       "      <th>4</th>\n",
       "      <td>s5</td>\n",
       "      <td>TV Show</td>\n",
       "      <td>Kota Factory</td>\n",
       "      <td>2021</td>\n",
       "      <td>International TV Shows, Romantic TV Shows, TV ...</td>\n",
       "      <td>In a city of coaching centers known to train I...</td>\n",
       "    </tr>\n",
       "    <tr>\n",
       "      <th>...</th>\n",
       "      <td>...</td>\n",
       "      <td>...</td>\n",
       "      <td>...</td>\n",
       "      <td>...</td>\n",
       "      <td>...</td>\n",
       "      <td>...</td>\n",
       "    </tr>\n",
       "    <tr>\n",
       "      <th>8802</th>\n",
       "      <td>s8803</td>\n",
       "      <td>Movie</td>\n",
       "      <td>Zodiac</td>\n",
       "      <td>2007</td>\n",
       "      <td>Cult Movies, Dramas, Thrillers</td>\n",
       "      <td>A political cartoonist, a crime reporter and a...</td>\n",
       "    </tr>\n",
       "    <tr>\n",
       "      <th>8803</th>\n",
       "      <td>s8804</td>\n",
       "      <td>TV Show</td>\n",
       "      <td>Zombie Dumb</td>\n",
       "      <td>2018</td>\n",
       "      <td>Kids' TV, Korean TV Shows, TV Comedies</td>\n",
       "      <td>While living alone in a spooky town, a young g...</td>\n",
       "    </tr>\n",
       "    <tr>\n",
       "      <th>8804</th>\n",
       "      <td>s8805</td>\n",
       "      <td>Movie</td>\n",
       "      <td>Zombieland</td>\n",
       "      <td>2009</td>\n",
       "      <td>Comedies, Horror Movies</td>\n",
       "      <td>Looking to survive in a world taken over by zo...</td>\n",
       "    </tr>\n",
       "    <tr>\n",
       "      <th>8805</th>\n",
       "      <td>s8806</td>\n",
       "      <td>Movie</td>\n",
       "      <td>Zoom</td>\n",
       "      <td>2006</td>\n",
       "      <td>Children &amp; Family Movies, Comedies</td>\n",
       "      <td>Dragged from civilian life, a former superhero...</td>\n",
       "    </tr>\n",
       "    <tr>\n",
       "      <th>8806</th>\n",
       "      <td>s8807</td>\n",
       "      <td>Movie</td>\n",
       "      <td>Zubaan</td>\n",
       "      <td>2015</td>\n",
       "      <td>Dramas, International Movies, Music &amp; Musicals</td>\n",
       "      <td>A scrappy but poor boy worms his way into a ty...</td>\n",
       "    </tr>\n",
       "  </tbody>\n",
       "</table>\n",
       "<p>8807 rows × 6 columns</p>\n",
       "</div>"
      ],
      "text/plain": [
       "     show_id     type                  title  release_year  \\\n",
       "0         s1    Movie   Dick Johnson Is Dead          2020   \n",
       "1         s2  TV Show          Blood & Water          2021   \n",
       "2         s3  TV Show              Ganglands          2021   \n",
       "3         s4  TV Show  Jailbirds New Orleans          2021   \n",
       "4         s5  TV Show           Kota Factory          2021   \n",
       "...      ...      ...                    ...           ...   \n",
       "8802   s8803    Movie                 Zodiac          2007   \n",
       "8803   s8804  TV Show            Zombie Dumb          2018   \n",
       "8804   s8805    Movie             Zombieland          2009   \n",
       "8805   s8806    Movie                   Zoom          2006   \n",
       "8806   s8807    Movie                 Zubaan          2015   \n",
       "\n",
       "                                              listed_in  \\\n",
       "0                                         Documentaries   \n",
       "1       International TV Shows, TV Dramas, TV Mysteries   \n",
       "2     Crime TV Shows, International TV Shows, TV Act...   \n",
       "3                                Docuseries, Reality TV   \n",
       "4     International TV Shows, Romantic TV Shows, TV ...   \n",
       "...                                                 ...   \n",
       "8802                     Cult Movies, Dramas, Thrillers   \n",
       "8803             Kids' TV, Korean TV Shows, TV Comedies   \n",
       "8804                            Comedies, Horror Movies   \n",
       "8805                 Children & Family Movies, Comedies   \n",
       "8806     Dramas, International Movies, Music & Musicals   \n",
       "\n",
       "                                            description  \n",
       "0     As her father nears the end of his life, filmm...  \n",
       "1     After crossing paths at a party, a Cape Town t...  \n",
       "2     To protect his family from a powerful drug lor...  \n",
       "3     Feuds, flirtations and toilet talk go down amo...  \n",
       "4     In a city of coaching centers known to train I...  \n",
       "...                                                 ...  \n",
       "8802  A political cartoonist, a crime reporter and a...  \n",
       "8803  While living alone in a spooky town, a young g...  \n",
       "8804  Looking to survive in a world taken over by zo...  \n",
       "8805  Dragged from civilian life, a former superhero...  \n",
       "8806  A scrappy but poor boy worms his way into a ty...  \n",
       "\n",
       "[8807 rows x 6 columns]"
      ]
     },
     "execution_count": 19,
     "metadata": {},
     "output_type": "execute_result"
    }
   ],
   "source": [
    "df.dropna(axis=1) # removes entire column if they have any missing columns "
   ]
  },
  {
   "cell_type": "code",
   "execution_count": 20,
   "id": "4110ec37",
   "metadata": {},
   "outputs": [
    {
     "data": {
      "text/plain": [
       "show_id            0\n",
       "type               0\n",
       "title              0\n",
       "director        2634\n",
       "cast             825\n",
       "country          831\n",
       "date_added        10\n",
       "release_year       0\n",
       "rating             4\n",
       "duration           3\n",
       "listed_in          0\n",
       "description        0\n",
       "dtype: int64"
      ]
     },
     "execution_count": 20,
     "metadata": {},
     "output_type": "execute_result"
    }
   ],
   "source": [
    "df.isnull().sum()"
   ]
  },
  {
   "cell_type": "code",
   "execution_count": 21,
   "id": "5a3815a3",
   "metadata": {},
   "outputs": [
    {
     "data": {
      "text/plain": [
       "2634"
      ]
     },
     "execution_count": 21,
     "metadata": {},
     "output_type": "execute_result"
    }
   ],
   "source": [
    "df['director'].isnull().sum()"
   ]
  },
  {
   "cell_type": "code",
   "execution_count": 22,
   "id": "2db65d90",
   "metadata": {},
   "outputs": [
    {
     "data": {
      "text/plain": [
       "825"
      ]
     },
     "execution_count": 22,
     "metadata": {},
     "output_type": "execute_result"
    }
   ],
   "source": [
    "df['cast'].isnull().sum()"
   ]
  },
  {
   "cell_type": "code",
   "execution_count": 23,
   "id": "8ac1aa76",
   "metadata": {},
   "outputs": [
    {
     "data": {
      "text/plain": [
       "831"
      ]
     },
     "execution_count": 23,
     "metadata": {},
     "output_type": "execute_result"
    }
   ],
   "source": [
    "df['country'].isnull().sum()"
   ]
  },
  {
   "cell_type": "code",
   "execution_count": 24,
   "id": "82515089",
   "metadata": {},
   "outputs": [
    {
     "data": {
      "text/plain": [
       "10"
      ]
     },
     "execution_count": 24,
     "metadata": {},
     "output_type": "execute_result"
    }
   ],
   "source": [
    "df['date_added'].isnull().sum()"
   ]
  },
  {
   "cell_type": "code",
   "execution_count": 25,
   "id": "2e916b71",
   "metadata": {},
   "outputs": [
    {
     "data": {
      "text/plain": [
       "4"
      ]
     },
     "execution_count": 25,
     "metadata": {},
     "output_type": "execute_result"
    }
   ],
   "source": [
    "df['rating'].isnull().sum()"
   ]
  },
  {
   "cell_type": "code",
   "execution_count": 26,
   "id": "9ebb7e75",
   "metadata": {},
   "outputs": [
    {
     "data": {
      "text/plain": [
       "3"
      ]
     },
     "execution_count": 26,
     "metadata": {},
     "output_type": "execute_result"
    }
   ],
   "source": [
    "df['duration'].isnull().sum()"
   ]
  },
  {
   "cell_type": "code",
   "execution_count": 27,
   "id": "85cd82ba",
   "metadata": {},
   "outputs": [],
   "source": [
    "df['director'] = df['director'].fillna('Unknown')"
   ]
  },
  {
   "cell_type": "code",
   "execution_count": 28,
   "id": "61fde4cf",
   "metadata": {},
   "outputs": [
    {
     "data": {
      "text/plain": [
       "0"
      ]
     },
     "execution_count": 28,
     "metadata": {},
     "output_type": "execute_result"
    }
   ],
   "source": [
    "df['director'].isnull().sum()"
   ]
  },
  {
   "cell_type": "code",
   "execution_count": 29,
   "id": "34d87337",
   "metadata": {},
   "outputs": [],
   "source": [
    "\n",
    "df['cast']=df['cast'].fillna('Unknown')\n",
    "df['country']=df['cast'].fillna('Unknown')\n",
    "df['date_added']=df['date_added'].fillna('Nil')\n",
    "df['rating']=df['rating'].fillna('Unknown')\n",
    "df['duration']=df['duration'].fillna('Unknown')"
   ]
  },
  {
   "cell_type": "code",
   "execution_count": 30,
   "id": "944847d6",
   "metadata": {},
   "outputs": [],
   "source": [
    "df_dire= df[df['director'] != 'Unknown']"
   ]
  },
  {
   "cell_type": "code",
   "execution_count": 31,
   "id": "ea285b61",
   "metadata": {},
   "outputs": [
    {
     "name": "stdout",
     "output_type": "stream",
     "text": [
      "[('Rajiv Chilaka', 22), ('Jan Suter', 21), ('Raúl Campos', 19), ('Suhas Kadav', 16), ('Marcus Raboy', 16), ('Jay Karas', 15), ('Cathy Garcia-Molina', 13), ('Youssef Chahine', 12), ('Martin Scorsese', 12), ('Jay Chapman', 12)]\n"
     ]
    }
   ],
   "source": [
    "from collections import Counter\n",
    "dir_counter = Counter()\n",
    "for direc in df_dire['director']:\n",
    "    for name in direc.split(','):\n",
    "        name = name.strip()\n",
    "        if name.lower() != 'Unknown' and name != '':\n",
    "            dir_counter[name] +=1\n",
    "top_directors = dir_counter.most_common(10)\n",
    "print(top_directors)            "
   ]
  },
  {
   "cell_type": "code",
   "execution_count": 32,
   "id": "b404ed68",
   "metadata": {
    "scrolled": true
   },
   "outputs": [
    {
     "name": "stderr",
     "output_type": "stream",
     "text": [
      "/var/folders/d2/6d2rdfjs1nnf_chsrv66nlxw0000gn/T/ipykernel_80390/878316840.py:8: UserWarning: Matplotlib is currently using agg, which is a non-GUI backend, so cannot show the figure.\n",
      "  plt.show()\n"
     ]
    }
   ],
   "source": [
    "import matplotlib.pyplot as plt\n",
    "names,counts = zip(*top_directors)\n",
    "plt.figure(figsize=(10,6))\n",
    "plt.barh(names,counts,color = 'skyblue')\n",
    "plt.xlabel('Number of shows')\n",
    "plt.ylabel('Top 10 Directors')\n",
    "plt.gca().invert_yaxis()\n",
    "plt.show()\n"
   ]
  },
  {
   "cell_type": "code",
   "execution_count": 33,
   "id": "70929a49",
   "metadata": {},
   "outputs": [
    {
     "data": {
      "text/plain": [
       "['show_id',\n",
       " 'type',\n",
       " 'title',\n",
       " 'director',\n",
       " 'cast',\n",
       " 'country',\n",
       " 'date_added',\n",
       " 'release_year',\n",
       " 'rating',\n",
       " 'duration',\n",
       " 'listed_in',\n",
       " 'description']"
      ]
     },
     "execution_count": 33,
     "metadata": {},
     "output_type": "execute_result"
    }
   ],
   "source": [
    "df.columns.tolist()"
   ]
  },
  {
   "cell_type": "code",
   "execution_count": 34,
   "id": "dc4d3712",
   "metadata": {},
   "outputs": [
    {
     "data": {
      "text/plain": [
       "(8807, 12)"
      ]
     },
     "execution_count": 34,
     "metadata": {},
     "output_type": "execute_result"
    }
   ],
   "source": [
    "df.shape"
   ]
  },
  {
   "cell_type": "code",
   "execution_count": 35,
   "id": "65c60354",
   "metadata": {},
   "outputs": [
    {
     "name": "stderr",
     "output_type": "stream",
     "text": [
      "/var/folders/d2/6d2rdfjs1nnf_chsrv66nlxw0000gn/T/ipykernel_80390/3168762170.py:11: UserWarning: Matplotlib is currently using agg, which is a non-GUI backend, so cannot show the figure.\n",
      "  plt.show()\n"
     ]
    }
   ],
   "source": [
    "numerical = df.select_dtypes(include = 'number').columns\n",
    "for cols in numerical:\n",
    "    plt.figure(figsize=(10,4))\n",
    "    plt.subplot(1,2,1)\n",
    "    sns.histplot(df[cols],kde=True)\n",
    "    plt.title(f'Histogram of {cols}')\n",
    "    plt.subplot(1,2,2)\n",
    "    sns.boxplot(x=df[cols])\n",
    "    plt.title(f'Boxplot of {cols}')\n",
    "    plt.tight_layout()\n",
    "    plt.show()"
   ]
  },
  {
   "cell_type": "code",
   "execution_count": 36,
   "id": "01b455c7",
   "metadata": {},
   "outputs": [
    {
     "name": "stderr",
     "output_type": "stream",
     "text": [
      "/var/folders/d2/6d2rdfjs1nnf_chsrv66nlxw0000gn/T/ipykernel_80390/2038100848.py:10: UserWarning: Matplotlib is currently using agg, which is a non-GUI backend, so cannot show the figure.\n",
      "  plt.show()\n",
      "/var/folders/d2/6d2rdfjs1nnf_chsrv66nlxw0000gn/T/ipykernel_80390/2038100848.py:10: UserWarning: Matplotlib is currently using agg, which is a non-GUI backend, so cannot show the figure.\n",
      "  plt.show()\n"
     ]
    }
   ],
   "source": [
    "categorical = df.select_dtypes(include=['object', 'category', 'string']).columns\n",
    "for col in categorical:\n",
    "    if df[col].nunique() <= 50:\n",
    "        plt.figure(figsize=(10, 4))\n",
    "        plt.subplot(1, 1, 1)  # You used (1,2,1) but only have 1 plot here\n",
    "        sns.countplot(x=cols, data=df, order=df[cols].value_counts().index)\n",
    "        plt.title(f'Count Plot of {cols}')\n",
    "        plt.xticks(rotation=45)\n",
    "        plt.tight_layout()\n",
    "        plt.show()\n"
   ]
  },
  {
   "cell_type": "code",
   "execution_count": 37,
   "id": "3c778175",
   "metadata": {},
   "outputs": [
    {
     "name": "stderr",
     "output_type": "stream",
     "text": [
      "/var/folders/d2/6d2rdfjs1nnf_chsrv66nlxw0000gn/T/ipykernel_80390/3607924314.py:12: UserWarning: Matplotlib is currently using agg, which is a non-GUI backend, so cannot show the figure.\n",
      "  plt.show()\n",
      "/var/folders/d2/6d2rdfjs1nnf_chsrv66nlxw0000gn/T/ipykernel_80390/3607924314.py:12: UserWarning: Matplotlib is currently using agg, which is a non-GUI backend, so cannot show the figure.\n",
      "  plt.show()\n"
     ]
    },
    {
     "name": "stdout",
     "output_type": "stream",
     "text": [
      "Skipping show_id — too many unique values: 8807\n",
      "Skipping title — too many unique values: 8807\n",
      "Skipping director — too many unique values: 4529\n",
      "Skipping cast — too many unique values: 7693\n",
      "Skipping country — too many unique values: 7693\n",
      "Skipping date_added — too many unique values: 1768\n",
      "Skipping duration — too many unique values: 221\n",
      "Skipping listed_in — too many unique values: 514\n",
      "Skipping description — too many unique values: 8775\n"
     ]
    }
   ],
   "source": [
    "# Fix: Include 'object' type columns as categorical too\n",
    "categorical = df.select_dtypes(include=['object', 'category', 'string']).columns\n",
    "\n",
    "# Loop through each categorical column\n",
    "for col in categorical:\n",
    "    if df[col].nunique() <= 50:  # Optional: skip columns with too many unique values\n",
    "        plt.figure(figsize=(10, 4))\n",
    "        sns.countplot(x=col, data=df, order=df[col].value_counts().index)\n",
    "        plt.title(f'Count Plot of {col}')\n",
    "        plt.xticks(rotation=45)\n",
    "        plt.tight_layout()\n",
    "        plt.show()\n",
    "    else:\n",
    "        print(f\"Skipping {col} — too many unique values: {df[col].nunique()}\")\n"
   ]
  },
  {
   "cell_type": "code",
   "execution_count": 38,
   "id": "f0d8c7e9",
   "metadata": {},
   "outputs": [
    {
     "name": "stdout",
     "output_type": "stream",
     "text": [
      "release_year: 719 outliers\n"
     ]
    }
   ],
   "source": [
    "numerical_cols=df.select_dtypes(include='number').columns\n",
    "for col in numerical_cols:\n",
    "    Q1=df[col].quantile(0.25)\n",
    "    Q3=df[col].quantile(0.75)\n",
    "    IQR= Q3- Q1\n",
    "    lower_bound = Q1-1.5 * IQR\n",
    "    upper_bound = Q3+1.5 *IQR\n",
    "    outliers = df[(df[col] < lower_bound) | (df[col] > upper_bound)]\n",
    "    print(f'{col}: {len(outliers)} outliers')\n",
    "    "
   ]
  },
  {
   "cell_type": "code",
   "execution_count": 39,
   "id": "33481d47",
   "metadata": {},
   "outputs": [
    {
     "name": "stdout",
     "output_type": "stream",
     "text": [
      "release_year: 217 outliers (Z-score method)\n"
     ]
    }
   ],
   "source": [
    "from scipy.stats import zscore\n",
    "import numpy as np\n",
    "\n",
    "# Apply z-score method\n",
    "for col in numerical_cols:\n",
    "    z_scores = zscore(df[col].dropna())\n",
    "    outliers = df[np.abs(z_scores) > 3]\n",
    "    print(f'{col}: {len(outliers)} outliers (Z-score method)')\n"
   ]
  },
  {
   "cell_type": "code",
   "execution_count": 40,
   "id": "7e29a44e",
   "metadata": {},
   "outputs": [
    {
     "name": "stderr",
     "output_type": "stream",
     "text": [
      "/var/folders/d2/6d2rdfjs1nnf_chsrv66nlxw0000gn/T/ipykernel_80390/1121726608.py:8: UserWarning: Matplotlib is currently using agg, which is a non-GUI backend, so cannot show the figure.\n",
      "  plt.show()\n"
     ]
    }
   ],
   "source": [
    "import seaborn as sns\n",
    "import matplotlib.pyplot as plt\n",
    "\n",
    "for col in numerical_cols:\n",
    "    plt.figure(figsize=(6, 2))\n",
    "    sns.boxplot(x=df[col])\n",
    "    plt.title(f'Boxplot of {col}')\n",
    "    plt.show()\n"
   ]
  },
  {
   "cell_type": "code",
   "execution_count": 41,
   "id": "975479f9",
   "metadata": {},
   "outputs": [
    {
     "name": "stdout",
     "output_type": "stream",
     "text": [
      "    release_year\n",
      "7           1993\n",
      "22          1996\n",
      "24          1998\n",
      "26          1997\n",
      "41          1975\n"
     ]
    }
   ],
   "source": [
    "outliers = df[(df['release_year'] < lower_bound) | (df['release_year'] > upper_bound)]\n",
    "print(outliers[['release_year']].head())"
   ]
  },
  {
   "cell_type": "code",
   "execution_count": 42,
   "id": "c6b89293",
   "metadata": {},
   "outputs": [
    {
     "name": "stdout",
     "output_type": "stream",
     "text": [
      "Unique rows with at least one outlier: 719\n"
     ]
    }
   ],
   "source": [
    "import pandas as pd\n",
    "\n",
    "# Select numerical columns\n",
    "numerical_cols = df.select_dtypes(include='number').columns\n",
    "\n",
    "# Create an empty set to store index of all outlier rows\n",
    "outlier_indices = set()\n",
    "\n",
    "# Loop over each column and collect outlier row indices\n",
    "for col in numerical_cols:\n",
    "    Q1 = df[col].quantile(0.25)\n",
    "    Q3 = df[col].quantile(0.75)\n",
    "    IQR = Q3 - Q1\n",
    "    lower_bound = Q1 - 1.5 * IQR\n",
    "    upper_bound = Q3 + 1.5 * IQR\n",
    "    \n",
    "    outliers = df[(df[col] < lower_bound) | (df[col] > upper_bound)]\n",
    "    outlier_indices.update(outliers.index)\n",
    "\n",
    "# Final count of unique rows with any outlier\n",
    "print(f\"Unique rows with at least one outlier: {len(outlier_indices)}\")\n"
   ]
  },
  {
   "cell_type": "code",
   "execution_count": 43,
   "id": "b36bcb85",
   "metadata": {},
   "outputs": [
    {
     "name": "stderr",
     "output_type": "stream",
     "text": [
      "/var/folders/d2/6d2rdfjs1nnf_chsrv66nlxw0000gn/T/ipykernel_80390/2319857503.py:2: UserWarning: Matplotlib is currently using agg, which is a non-GUI backend, so cannot show the figure.\n",
      "  plt.show()\n"
     ]
    }
   ],
   "source": [
    "sns.boxplot(data=df['release_year'])\n",
    "plt.show()"
   ]
  },
  {
   "cell_type": "code",
   "execution_count": 44,
   "id": "edf298f5",
   "metadata": {},
   "outputs": [
    {
     "data": {
      "text/plain": [
       "<Axes: title={'center': 'Boxplot of release_year'}, xlabel='release_year', ylabel='type'>"
      ]
     },
     "execution_count": 44,
     "metadata": {},
     "output_type": "execute_result"
    }
   ],
   "source": [
    "sns.stripplot(data=df,x='release_year',y='type',jitter = True,alpha=0.5)"
   ]
  },
  {
   "cell_type": "code",
   "execution_count": 45,
   "id": "dd94775e",
   "metadata": {},
   "outputs": [
    {
     "data": {
      "text/plain": [
       "<Axes: title={'center': 'Boxplot of release_year'}, xlabel='release_year', ylabel='count'>"
      ]
     },
     "execution_count": 45,
     "metadata": {},
     "output_type": "execute_result"
    }
   ],
   "source": [
    "df[df['release_year']<1900]\n",
    "df[df['release_year']>2025]\n",
    "df_clean = df[(df['release_year'] >= 1900) & (df['release_year'] <= 2025)]\n",
    "sns.stripplot(data=df,x='release_year',y='type',jitter = True,alpha=0.5)\n",
    "sns.countplot(data=df, x='release_year', hue='type')"
   ]
  },
  {
   "cell_type": "code",
   "execution_count": null,
   "id": "9147767c",
   "metadata": {},
   "outputs": [],
   "source": []
  },
  {
   "cell_type": "code",
   "execution_count": 46,
   "id": "749fceec",
   "metadata": {},
   "outputs": [
    {
     "data": {
      "text/plain": [
       "<matplotlib.lines.Line2D at 0x14ddfc110>"
      ]
     },
     "execution_count": 46,
     "metadata": {},
     "output_type": "execute_result"
    }
   ],
   "source": [
    "from scipy.stats import zscore\n",
    "\n",
    "df['z'] = zscore(df['release_year'])\n",
    "sns.histplot(df['z'], bins=50)\n",
    "plt.axvline(3, color='red'); plt.axvline(-3, color='red')\n"
   ]
  },
  {
   "cell_type": "markdown",
   "id": "ca53a949",
   "metadata": {},
   "source": [
    "### Most Common Content Types by Country"
   ]
  },
  {
   "cell_type": "code",
   "execution_count": 47,
   "id": "c4d3c6da",
   "metadata": {},
   "outputs": [
    {
     "name": "stderr",
     "output_type": "stream",
     "text": [
      "/var/folders/d2/6d2rdfjs1nnf_chsrv66nlxw0000gn/T/ipykernel_80390/1891030592.py:11: UserWarning: Matplotlib is currently using agg, which is a non-GUI backend, so cannot show the figure.\n",
      "  plt.show()\n"
     ]
    }
   ],
   "source": [
    "df_filtered = df[df['country'] != 'Unknown']\n",
    "df['country'] = df['country'].apply(lambda x: x.split(',')[0])\n",
    "top_countries=df_filtered['country'].value_counts().head(10).index\n",
    "df_top = df[df['country'].isin(top_countries)]\n",
    "country_type = df_top.groupby(['country','type']).size().unstack().fillna(0)\n",
    "country_type.plot(kind='bar',stacked=True,figsize=(15,6),colormap='tab10')\n",
    "plt.title('Movies vs Country')\n",
    "plt.ylabel('Number of tiles')\n",
    "plt.xticks(rotation=45)\n",
    "plt.tight_layout()\n",
    "plt.show()"
   ]
  },
  {
   "cell_type": "code",
   "execution_count": 48,
   "id": "ab9c5c12",
   "metadata": {},
   "outputs": [
    {
     "name": "stderr",
     "output_type": "stream",
     "text": [
      "/var/folders/d2/6d2rdfjs1nnf_chsrv66nlxw0000gn/T/ipykernel_80390/3856442642.py:24: UserWarning: Matplotlib is currently using agg, which is a non-GUI backend, so cannot show the figure.\n",
      "  plt.show()\n"
     ]
    }
   ],
   "source": [
    "# Remove 'Unknown'\n",
    "df_filtered = df[df['country'] != 'Unknown']\n",
    "\n",
    "\n",
    "# Find top countries by content count\n",
    "top_countries = df_filtered['country'].value_counts().head(10).index\n",
    "\n",
    "# Filter data\n",
    "df_top = df[df['country'].isin(top_countries)]\n",
    "\n",
    "# Group and reshape\n",
    "country_type = df_top.groupby(['country', 'type']).size().unstack(fill_value=0)\n",
    "\n",
    "# Sort countries by total titles\n",
    "country_type = country_type.loc[country_type.sum(axis=1).sort_values(ascending=False).index]\n",
    "\n",
    "# Plot\n",
    "country_type.plot(kind='bar', stacked=True, figsize=(10, 6), colormap='tab10')\n",
    "plt.title('Number of Movies and TV Shows by Country (Top 10 Countries)')\n",
    "plt.ylabel('Number of Titles')\n",
    "plt.xlabel('Country')\n",
    "plt.xticks(rotation=45)\n",
    "plt.tight_layout()\n",
    "plt.show()\n"
   ]
  },
  {
   "cell_type": "code",
   "execution_count": 49,
   "id": "6df1c493",
   "metadata": {},
   "outputs": [
    {
     "name": "stderr",
     "output_type": "stream",
     "text": [
      "/var/folders/d2/6d2rdfjs1nnf_chsrv66nlxw0000gn/T/ipykernel_80390/116767673.py:25: UserWarning: Matplotlib is currently using agg, which is a non-GUI backend, so cannot show the figure.\n",
      "  plt.show()\n"
     ]
    }
   ],
   "source": [
    "import matplotlib.pyplot as plt\n",
    "\n",
    "# Exclude unknown countries\n",
    "df_filtered = df[df['country'].notna() & (df['country'] != 'Unknown')]\n",
    "\n",
    "# Get top 10 countries by content count\n",
    "top_countries = df_filtered['country'].value_counts().head(10).index\n",
    "\n",
    "# Filter dataset for those countries\n",
    "df_top = df[df['country'].isin(top_countries)]\n",
    "\n",
    "# Group by country and type (Movie/TV Show)\n",
    "country_type = df_top.groupby(['country', 'type']).size().unstack(fill_value=0)\n",
    "\n",
    "# Sort countries by total number of titles\n",
    "country_type = country_type.loc[country_type.sum(axis=1).sort_values(ascending=False).index]\n",
    "\n",
    "# Plot\n",
    "country_type.plot(kind='bar', stacked=True, figsize=(10, 6), colormap='tab10')\n",
    "plt.title('Number of Movies and TV Shows by Country (Top 10 Countries)')\n",
    "plt.ylabel('Number of Titles')\n",
    "plt.xlabel('Country')\n",
    "plt.xticks(rotation=45)\n",
    "plt.tight_layout()\n",
    "plt.show()\n"
   ]
  },
  {
   "cell_type": "code",
   "execution_count": 50,
   "id": "35715eb4",
   "metadata": {},
   "outputs": [
    {
     "data": {
      "text/plain": [
       "<Axes: title={'center': 'Number of Movies and TV Shows by Country (Top 10 Countries)'}>"
      ]
     },
     "execution_count": 50,
     "metadata": {},
     "output_type": "execute_result"
    }
   ],
   "source": [
    "sns.heatmap(df.isnull())"
   ]
  },
  {
   "cell_type": "code",
   "execution_count": 51,
   "id": "e49faeea",
   "metadata": {},
   "outputs": [
    {
     "name": "stderr",
     "output_type": "stream",
     "text": [
      "/var/folders/d2/6d2rdfjs1nnf_chsrv66nlxw0000gn/T/ipykernel_80390/2446018422.py:10: UserWarning: Matplotlib is currently using agg, which is a non-GUI backend, so cannot show the figure.\n",
      "  plt.show()\n"
     ]
    }
   ],
   "source": [
    "# Count types\n",
    "type_counts=df['type'].value_counts()\n",
    "sns.barplot(x=type_counts.index,y=type_counts.values,palette='viridis')\n",
    "plt.title('Number of Movies vs TV Shows on Netflix')\n",
    "plt.xlabel('Type')\n",
    "plt.ylabel('Count')\n",
    "for i,value in enumerate(type_counts.values):\n",
    "    plt.text(i,value+100,str(value),ha='center',va='bottom',fontweight='bold')\n",
    "plt.tight_layout()\n",
    "plt.show()\n"
   ]
  },
  {
   "cell_type": "code",
   "execution_count": 52,
   "id": "0066341c",
   "metadata": {},
   "outputs": [
    {
     "name": "stderr",
     "output_type": "stream",
     "text": [
      "/var/folders/d2/6d2rdfjs1nnf_chsrv66nlxw0000gn/T/ipykernel_80390/4201180427.py:6: UserWarning: Matplotlib is currently using agg, which is a non-GUI backend, so cannot show the figure.\n",
      "  plt.show()\n"
     ]
    }
   ],
   "source": [
    "df.groupby(['release_year','type']).size().unstack().plot(kind='bar',stacked=False,figsize=(12,6))\n",
    "plt.title('Movies vs TV shows added over the years')\n",
    "plt.xlabel('Release year')\n",
    "plt.ylabel('Number of titles')\n",
    "plt.tight_layout()\n",
    "plt.show()"
   ]
  },
  {
   "cell_type": "code",
   "execution_count": 53,
   "id": "04a4bd3d",
   "metadata": {},
   "outputs": [
    {
     "name": "stderr",
     "output_type": "stream",
     "text": [
      "/var/folders/d2/6d2rdfjs1nnf_chsrv66nlxw0000gn/T/ipykernel_80390/3437242866.py:26: UserWarning: Matplotlib is currently using agg, which is a non-GUI backend, so cannot show the figure.\n",
      "  plt.show()\n"
     ]
    }
   ],
   "source": [
    "# Only use rows where country is not null\n",
    "# Then split multi-country rows into separate rows\n",
    "countries_series = df['country'].dropna().str.split(', ').explode()\n",
    "\n",
    "# Strip whitespace (in case of extra spaces)\n",
    "countries_series = countries_series.str.strip()\n",
    "\n",
    "# Count top 10 countries\n",
    "country_counts = countries_series.value_counts().head(10)\n",
    "\n",
    "# Visualize\n",
    "import seaborn as sns\n",
    "import matplotlib.pyplot as plt\n",
    "\n",
    "plt.figure(figsize=(10,6))\n",
    "sns.barplot(x=country_counts.values, y=country_counts.index, palette='crest')\n",
    "plt.title('Top 10 Countries by Number of Netflix Titles')\n",
    "plt.xlabel('Number of Titles')\n",
    "plt.ylabel('Country')\n",
    "\n",
    "# Add labels to bars\n",
    "for index, value in enumerate(country_counts.values):\n",
    "    plt.text(value + 20, index, str(value), va='center', fontweight='bold')\n",
    "\n",
    "plt.tight_layout()\n",
    "plt.show()\n"
   ]
  },
  {
   "cell_type": "code",
   "execution_count": 54,
   "id": "9c99dd4c",
   "metadata": {},
   "outputs": [
    {
     "name": "stdout",
     "output_type": "stream",
     "text": [
      "            country                                               cast\n",
      "545   Kira Buckland  Kira Buckland, Ryan Bartley, Bryce Papenbrook,...\n",
      "4599     Miss Pooja  Miss Pooja, Tarun Khanna, Raj Singh Jhinger, S...\n",
      "5235        Goo Jin  Goo Jin, Hye-jin Han, Soo-bin Bae, Seul-ong Im...\n",
      "1426     Ajay Devgn  Ajay Devgn, Gracy Singh, Mohan Agashe, Mohan J...\n",
      "8348        Unknown                                            Unknown\n"
     ]
    }
   ],
   "source": [
    "print(df[['country', 'cast']].sample(5))\n"
   ]
  },
  {
   "cell_type": "code",
   "execution_count": 55,
   "id": "f7452ff2",
   "metadata": {},
   "outputs": [
    {
     "name": "stdout",
     "output_type": "stream",
     "text": [
      "Index(['show_id', 'type', 'title', 'director', 'cast', 'country', 'date_added',\n",
      "       'release_year', 'rating', 'duration', 'listed_in', 'description', 'z'],\n",
      "      dtype='object')\n",
      "show_id                                                        s1\n",
      "type                                                        Movie\n",
      "title                                        Dick Johnson Is Dead\n",
      "director                                          Kirsten Johnson\n",
      "cast                                                      Unknown\n",
      "country                                                   Unknown\n",
      "date_added                                     September 25, 2021\n",
      "release_year                                                 2020\n",
      "rating                                                      PG-13\n",
      "duration                                                   90 min\n",
      "listed_in                                           Documentaries\n",
      "description     As her father nears the end of his life, filmm...\n",
      "z                                                         0.65993\n",
      "Name: 0, dtype: object\n"
     ]
    }
   ],
   "source": [
    "print(df.columns)\n",
    "print(df.iloc[0])\n"
   ]
  },
  {
   "cell_type": "code",
   "execution_count": 56,
   "id": "6f5f322e",
   "metadata": {},
   "outputs": [],
   "source": [
    "df = pd.read_csv('netflix_titles.csv', encoding='utf-8', quotechar='\"', escapechar='\\\\')"
   ]
  },
  {
   "cell_type": "code",
   "execution_count": 57,
   "id": "0c10873d",
   "metadata": {},
   "outputs": [
    {
     "name": "stdout",
     "output_type": "stream",
     "text": [
      "Index(['show_id', 'type', 'title', 'director', 'cast', 'country', 'date_added',\n",
      "       'release_year', 'rating', 'duration', 'listed_in', 'description'],\n",
      "      dtype='object')\n",
      "show_id                                                        s1\n",
      "type                                                        Movie\n",
      "title                                        Dick Johnson Is Dead\n",
      "director                                          Kirsten Johnson\n",
      "cast                                                          NaN\n",
      "country                                             United States\n",
      "date_added                                     September 25, 2021\n",
      "release_year                                                 2020\n",
      "rating                                                      PG-13\n",
      "duration                                                   90 min\n",
      "listed_in                                           Documentaries\n",
      "description     As her father nears the end of his life, filmm...\n",
      "Name: 0, dtype: object\n"
     ]
    }
   ],
   "source": [
    "print(df.columns)\n",
    "print(df.iloc[0])"
   ]
  },
  {
   "cell_type": "markdown",
   "id": "9acff5e0",
   "metadata": {},
   "source": [
    "## What are the top 10 countries by number of Netflix titles overall?"
   ]
  },
  {
   "cell_type": "code",
   "execution_count": 58,
   "id": "69b3051d",
   "metadata": {},
   "outputs": [
    {
     "name": "stderr",
     "output_type": "stream",
     "text": [
      "/var/folders/d2/6d2rdfjs1nnf_chsrv66nlxw0000gn/T/ipykernel_80390/668396770.py:26: UserWarning: Matplotlib is currently using agg, which is a non-GUI backend, so cannot show the figure.\n",
      "  plt.show()\n"
     ]
    }
   ],
   "source": [
    "# Only use rows where country is not null\n",
    "# Then split multi-country rows into separate rows\n",
    "countries_series = df['country'].dropna().str.split(', ').explode()\n",
    "\n",
    "# Strip whitespace (in case of extra spaces)\n",
    "countries_series = countries_series.str.strip()\n",
    "\n",
    "# Count top 10 countries\n",
    "country_counts = countries_series.value_counts().head(10)\n",
    "\n",
    "# Visualize\n",
    "import seaborn as sns\n",
    "import matplotlib.pyplot as plt\n",
    "\n",
    "plt.figure(figsize=(10,6))\n",
    "sns.barplot(x=country_counts.values, y=country_counts.index, palette='crest')\n",
    "plt.title('Top 10 Countries by Number of Netflix Titles')\n",
    "plt.xlabel('Number of Titles')\n",
    "plt.ylabel('Country')\n",
    "\n",
    "# Add labels to bars\n",
    "for index, value in enumerate(country_counts.values):\n",
    "    plt.text(value + 20, index, str(value), va='center', fontweight='bold')\n",
    "\n",
    "plt.tight_layout()\n",
    "plt.show()"
   ]
  },
  {
   "cell_type": "markdown",
   "id": "68e09b9f",
   "metadata": {},
   "source": [
    "## Distribution by Genre:"
   ]
  },
  {
   "cell_type": "code",
   "execution_count": 59,
   "id": "4ae09082",
   "metadata": {},
   "outputs": [
    {
     "data": {
      "text/plain": [
       "['show_id',\n",
       " 'type',\n",
       " 'title',\n",
       " 'director',\n",
       " 'cast',\n",
       " 'country',\n",
       " 'date_added',\n",
       " 'release_year',\n",
       " 'rating',\n",
       " 'duration',\n",
       " 'listed_in',\n",
       " 'description']"
      ]
     },
     "execution_count": 59,
     "metadata": {},
     "output_type": "execute_result"
    }
   ],
   "source": [
    "df.columns.tolist()"
   ]
  },
  {
   "cell_type": "markdown",
   "id": "66854ecd",
   "metadata": {},
   "source": [
    "My data does not have any special column genre, so i am creating it and there by i shall analyze how the trends work"
   ]
  },
  {
   "cell_type": "code",
   "execution_count": 60,
   "id": "a6ab6d44",
   "metadata": {},
   "outputs": [],
   "source": [
    "df_genres = df.dropna(subset = ['listed_in'])\n",
    "df_genres = df_genres.assign(genre = df_genres['listed_in'].str.split(',')).explode('genre')\n",
    "df_genres['genre'] = df_genres['genre'].str.strip()"
   ]
  },
  {
   "cell_type": "code",
   "execution_count": 61,
   "id": "50e060df",
   "metadata": {},
   "outputs": [
    {
     "name": "stdout",
     "output_type": "stream",
     "text": [
      "International Movies        2752\n",
      "Dramas                      2427\n",
      "Comedies                    1674\n",
      "International TV Shows      1351\n",
      "Documentaries                869\n",
      "Action & Adventure           859\n",
      "TV Dramas                    763\n",
      "Independent Movies           756\n",
      "Children & Family Movies     641\n",
      "Romantic Movies              616\n",
      "Name: genre, dtype: int64\n"
     ]
    }
   ],
   "source": [
    "genre_counts = df_genres['genre'].value_counts()\n",
    "print(genre_counts.head(10))"
   ]
  },
  {
   "cell_type": "code",
   "execution_count": 62,
   "id": "847a3ead",
   "metadata": {},
   "outputs": [
    {
     "name": "stderr",
     "output_type": "stream",
     "text": [
      "/var/folders/d2/6d2rdfjs1nnf_chsrv66nlxw0000gn/T/ipykernel_80390/1922903479.py:9: UserWarning: Matplotlib is currently using agg, which is a non-GUI backend, so cannot show the figure.\n",
      "  plt.show()\n"
     ]
    }
   ],
   "source": [
    "top10_counts = genre_counts.head(10)\n",
    "plt.figure(figsize=(10,6))\n",
    "sns.barplot(x = top10_counts.values , y=top10_counts.index,palette = 'viridis')\n",
    "for i, v in enumerate(top10_counts):\n",
    "    plt.text(v + 10, i, str(v), va='center', fontweight='bold')\n",
    "plt.title('Top 10 Genres')\n",
    "plt.ylabel('Genres')\n",
    "plt.xlabel('Number of titles')\n",
    "plt.show()"
   ]
  },
  {
   "cell_type": "markdown",
   "id": "d5dafe5f",
   "metadata": {},
   "source": [
    "## Country-wise Content Production"
   ]
  },
  {
   "cell_type": "code",
   "execution_count": 63,
   "id": "9419f67a",
   "metadata": {},
   "outputs": [],
   "source": [
    "country_counts = df['country'].value_counts().reset_index()\n",
    "country_counts.columns = ['country','count']"
   ]
  },
  {
   "cell_type": "code",
   "execution_count": 64,
   "id": "3c8ba8dd",
   "metadata": {
    "scrolled": true
   },
   "outputs": [
    {
     "name": "stderr",
     "output_type": "stream",
     "text": [
      "/var/folders/d2/6d2rdfjs1nnf_chsrv66nlxw0000gn/T/ipykernel_80390/4068828803.py:7: UserWarning: Matplotlib is currently using agg, which is a non-GUI backend, so cannot show the figure.\n",
      "  plt.show()\n"
     ]
    }
   ],
   "source": [
    "plt.figure(figsize=(12,6))\n",
    "sns.barplot(data=country_counts.head(20), x='count', y='country', palette='viridis')\n",
    "plt.title('Top 20 countries with highest content production')\n",
    "plt.xlabel('Number of titles')\n",
    "plt.ylabel('Top 20 countries')\n",
    "plt.tight_layout()\n",
    "plt.show()"
   ]
  },
  {
   "cell_type": "code",
   "execution_count": 65,
   "id": "3254526a",
   "metadata": {},
   "outputs": [
    {
     "name": "stdout",
     "output_type": "stream",
     "text": [
      "          country  count\n",
      "0   United States   2818\n",
      "1           India    972\n",
      "2  United Kingdom    419\n",
      "3           Japan    245\n",
      "4     South Korea    199\n",
      "Index(['country', 'count'], dtype='object')\n"
     ]
    }
   ],
   "source": [
    "print(country_counts.head())\n",
    "print(country_counts.columns)"
   ]
  },
  {
   "cell_type": "code",
   "execution_count": 66,
   "id": "5a61bcef",
   "metadata": {},
   "outputs": [
    {
     "name": "stdout",
     "output_type": "stream",
     "text": [
      "    release_year\n",
      "7           1993\n",
      "22          1996\n",
      "24          1998\n",
      "26          1997\n",
      "41          1975\n"
     ]
    }
   ],
   "source": [
    "outliers = df[(df['release_year'] < lower_bound) | (df['release_year'] > upper_bound)]\n",
    "print(outliers[['release_year']].head())"
   ]
  },
  {
   "cell_type": "code",
   "execution_count": 67,
   "id": "63ab0c36",
   "metadata": {},
   "outputs": [],
   "source": [
    "import plotly.io as pio\n",
    "pio.renderers.default = 'notebook'"
   ]
  },
  {
   "cell_type": "code",
   "execution_count": 68,
   "id": "bc353823",
   "metadata": {
    "scrolled": true
   },
   "outputs": [],
   "source": [
    "import plotly.express as px\n",
    "fig = px.choropleth(\n",
    "country_counts,\n",
    "locations='country',\n",
    "locationmode='country names',\n",
    "color='count',\n",
    "color_continuous_scale='reds',\n",
    "title = 'Netflix shows world-wide')\n",
    "fig.show()"
   ]
  },
  {
   "cell_type": "markdown",
   "id": "a2d255df",
   "metadata": {},
   "source": [
    "## Most frequently appearing actors or directors"
   ]
  },
  {
   "cell_type": "code",
   "execution_count": 69,
   "id": "e90e6489",
   "metadata": {},
   "outputs": [],
   "source": [
    "df_cast = df.dropna(subset=['cast'])\n",
    "actors = df.dropna(subset=['cast']).copy()\n",
    "actors_counts = df['cast'].value_counts().reset_index()\n",
    "actors['cast']= actors['cast'].str.split(', ')\n",
    "actors = actors.explode('cast')\n",
    "actors_counts.columns = ['actor','count']"
   ]
  },
  {
   "cell_type": "code",
   "execution_count": 70,
   "id": "9e33bb78",
   "metadata": {},
   "outputs": [],
   "source": [
    "directors_df = df.dropna(subset=['director']).copy()\n",
    "directors_df['director'] = directors_df['director'].str.split(', ')\n",
    "directors_df = directors_df.explode('director')\n",
    "# Count appearances\n",
    "director_counts = directors_df['director'].value_counts().rename_axis('director').reset_index(name='count')"
   ]
  },
  {
   "cell_type": "code",
   "execution_count": 71,
   "id": "75b48078",
   "metadata": {},
   "outputs": [
    {
     "name": "stderr",
     "output_type": "stream",
     "text": [
      "/var/folders/d2/6d2rdfjs1nnf_chsrv66nlxw0000gn/T/ipykernel_80390/3979224208.py:24: UserWarning:\n",
      "\n",
      "Matplotlib is currently using agg, which is a non-GUI backend, so cannot show the figure.\n",
      "\n"
     ]
    }
   ],
   "source": [
    "# Step 1: Drop nulls from 'cast' column\n",
    "df_cast = df.dropna(subset=['cast'])\n",
    "\n",
    "# Step 2: Create a list of all actor names\n",
    "from itertools import chain\n",
    "\n",
    "all_actors = list(chain.from_iterable(df_cast['cast'].str.split(', ')))\n",
    "\n",
    "# Step 3: Create a value_counts DataFrame\n",
    "import pandas as pd\n",
    "actor_counts = pd.Series(all_actors).value_counts().reset_index()\n",
    "actor_counts.columns = ['actor', 'count']\n",
    "\n",
    "# Step 4: Plot\n",
    "import matplotlib.pyplot as plt\n",
    "import seaborn as sns\n",
    "\n",
    "plt.figure(figsize=(12,6))\n",
    "sns.barplot(data=actor_counts.head(20), x='count', y='actor', palette='magma')\n",
    "plt.title('Top 20 Actors on Netflix')\n",
    "plt.xlabel('Number of Titles')\n",
    "plt.ylabel('Actor')\n",
    "plt.tight_layout()\n",
    "plt.show()"
   ]
  },
  {
   "cell_type": "code",
   "execution_count": 72,
   "id": "18ecf856",
   "metadata": {},
   "outputs": [
    {
     "name": "stderr",
     "output_type": "stream",
     "text": [
      "/var/folders/d2/6d2rdfjs1nnf_chsrv66nlxw0000gn/T/ipykernel_80390/4290418791.py:24: UserWarning:\n",
      "\n",
      "Matplotlib is currently using agg, which is a non-GUI backend, so cannot show the figure.\n",
      "\n"
     ]
    }
   ],
   "source": [
    "# Step 1: Drop nulls from 'cast' column\n",
    "df_cast = df.dropna(subset=['director'])\n",
    "\n",
    "# Step 2: Create a list of all actor names\n",
    "from itertools import chain\n",
    "\n",
    "all_actors = list(chain.from_iterable(df_cast['director'].str.split(', ')))\n",
    "\n",
    "# Step 3: Create a value_counts DataFrame\n",
    "import pandas as pd\n",
    "actor_counts = pd.Series(all_actors).value_counts().reset_index()\n",
    "actor_counts.columns = ['director', 'count']\n",
    "\n",
    "# Step 4: Plot\n",
    "import matplotlib.pyplot as plt\n",
    "import seaborn as sns\n",
    "\n",
    "plt.figure(figsize=(12,6))\n",
    "sns.barplot(data=actor_counts.head(20), x='count', y='director', palette='magma')\n",
    "plt.title('Top 20 directors on Netflix')\n",
    "plt.xlabel('Number of Titles')\n",
    "plt.ylabel('Director')\n",
    "plt.tight_layout()\n",
    "plt.show()"
   ]
  },
  {
   "cell_type": "markdown",
   "id": "35cdbb04",
   "metadata": {},
   "source": [
    "## Movie vs TV Show Share"
   ]
  },
  {
   "cell_type": "code",
   "execution_count": 73,
   "id": "887592a3",
   "metadata": {},
   "outputs": [
    {
     "name": "stderr",
     "output_type": "stream",
     "text": [
      "/var/folders/d2/6d2rdfjs1nnf_chsrv66nlxw0000gn/T/ipykernel_80390/3743551530.py:4: UserWarning:\n",
      "\n",
      "Matplotlib is currently using agg, which is a non-GUI backend, so cannot show the figure.\n",
      "\n"
     ]
    }
   ],
   "source": [
    "df['type'].value_counts().plot(kind='pie',autopct='%1.1f%%',startangle=90,colors=['#ff9999','#66b3ff'])\n",
    "plt.title('Movie vs TV Show Share')\n",
    "plt.ylabel('Number of titles')\n",
    "plt.show()"
   ]
  },
  {
   "cell_type": "code",
   "execution_count": 74,
   "id": "5cc23084",
   "metadata": {},
   "outputs": [
    {
     "name": "stdout",
     "output_type": "stream",
     "text": [
      "[1925 1942 1943 1944 1945 1946 1947 1954 1955 1956 1958 1959 1960 1961\n",
      " 1962 1963 1964 1965 1966 1967 1968 1969 1970 1971 1972 1973 1974 1975\n",
      " 1976 1977 1978 1979 1980 1981 1982 1983 1984 1985 1986 1987 1988 1989\n",
      " 1990 1991 1992 1993 1994 1995 1996 1997 1998 1999 2000 2001 2002 2003\n",
      " 2004 2005 2006 2007 2008 2009 2010 2011 2012 2013 2014 2015 2016 2017\n",
      " 2018 2019 2020 2021]\n"
     ]
    }
   ],
   "source": [
    "print(df['release_year'].sort_values().unique())"
   ]
  },
  {
   "cell_type": "code",
   "execution_count": 75,
   "id": "c32e2608",
   "metadata": {},
   "outputs": [
    {
     "name": "stderr",
     "output_type": "stream",
     "text": [
      "/var/folders/d2/6d2rdfjs1nnf_chsrv66nlxw0000gn/T/ipykernel_80390/909139499.py:8: UserWarning:\n",
      "\n",
      "Matplotlib is currently using agg, which is a non-GUI backend, so cannot show the figure.\n",
      "\n"
     ]
    }
   ],
   "source": [
    "plt.figure(figsize=(12,6))\n",
    "sns.countplot(data=df, x='release_year', order=df['release_year'].value_counts().index.sort_values(), palette='coolwarm')\n",
    "plt.xticks(rotation=45)\n",
    "plt.title('Number of Titles Released Each Year')\n",
    "plt.xlabel('Release Year')\n",
    "plt.ylabel('Number of Titles')\n",
    "plt.tight_layout()\n",
    "plt.show()\n"
   ]
  },
  {
   "cell_type": "code",
   "execution_count": 82,
   "id": "550b5640",
   "metadata": {},
   "outputs": [
    {
     "name": "stdout",
     "output_type": "stream",
     "text": [
      "Requirement already satisfied: streamlit in /Users/aakanksha/anaconda3/lib/python3.11/site-packages (1.46.1)\n",
      "Requirement already satisfied: altair<6,>=4.0 in /Users/aakanksha/anaconda3/lib/python3.11/site-packages (from streamlit) (5.5.0)\n",
      "Requirement already satisfied: blinker<2,>=1.5.0 in /Users/aakanksha/anaconda3/lib/python3.11/site-packages (from streamlit) (1.9.0)\n",
      "Requirement already satisfied: cachetools<7,>=4.0 in /Users/aakanksha/anaconda3/lib/python3.11/site-packages (from streamlit) (5.3.2)\n",
      "Requirement already satisfied: click<9,>=7.0 in /Users/aakanksha/anaconda3/lib/python3.11/site-packages (from streamlit) (8.0.4)\n",
      "Requirement already satisfied: numpy<3,>=1.23 in /Users/aakanksha/anaconda3/lib/python3.11/site-packages (from streamlit) (1.24.3)\n",
      "Requirement already satisfied: packaging<26,>=20 in /Users/aakanksha/anaconda3/lib/python3.11/site-packages (from streamlit) (24.2)\n",
      "Requirement already satisfied: pandas<3,>=1.4.0 in /Users/aakanksha/anaconda3/lib/python3.11/site-packages (from streamlit) (1.5.3)\n",
      "Requirement already satisfied: pillow<12,>=7.1.0 in /Users/aakanksha/anaconda3/lib/python3.11/site-packages (from streamlit) (9.4.0)\n",
      "Requirement already satisfied: protobuf<7,>=3.20 in /Users/aakanksha/anaconda3/lib/python3.11/site-packages (from streamlit) (4.23.4)\n",
      "Requirement already satisfied: pyarrow>=7.0 in /Users/aakanksha/anaconda3/lib/python3.11/site-packages (from streamlit) (11.0.0)\n",
      "Requirement already satisfied: requests<3,>=2.27 in /Users/aakanksha/anaconda3/lib/python3.11/site-packages (from streamlit) (2.31.0)\n",
      "Requirement already satisfied: tenacity<10,>=8.1.0 in /Users/aakanksha/anaconda3/lib/python3.11/site-packages (from streamlit) (8.2.2)\n",
      "Requirement already satisfied: toml<2,>=0.10.1 in /Users/aakanksha/anaconda3/lib/python3.11/site-packages (from streamlit) (0.10.2)\n",
      "Requirement already satisfied: typing-extensions<5,>=4.4.0 in /Users/aakanksha/anaconda3/lib/python3.11/site-packages (from streamlit) (4.12.2)\n",
      "Requirement already satisfied: gitpython!=3.1.19,<4,>=3.0.7 in /Users/aakanksha/anaconda3/lib/python3.11/site-packages (from streamlit) (3.1.44)\n",
      "Requirement already satisfied: pydeck<1,>=0.8.0b4 in /Users/aakanksha/anaconda3/lib/python3.11/site-packages (from streamlit) (0.9.1)\n",
      "Requirement already satisfied: tornado!=6.5.0,<7,>=6.0.3 in /Users/aakanksha/anaconda3/lib/python3.11/site-packages (from streamlit) (6.3.2)\n",
      "Requirement already satisfied: jinja2 in /Users/aakanksha/anaconda3/lib/python3.11/site-packages (from altair<6,>=4.0->streamlit) (3.1.2)\n",
      "Requirement already satisfied: jsonschema>=3.0 in /Users/aakanksha/anaconda3/lib/python3.11/site-packages (from altair<6,>=4.0->streamlit) (4.17.3)\n",
      "Requirement already satisfied: narwhals>=1.14.2 in /Users/aakanksha/anaconda3/lib/python3.11/site-packages (from altair<6,>=4.0->streamlit) (1.46.0)\n",
      "Requirement already satisfied: gitdb<5,>=4.0.1 in /Users/aakanksha/anaconda3/lib/python3.11/site-packages (from gitpython!=3.1.19,<4,>=3.0.7->streamlit) (4.0.12)\n",
      "Requirement already satisfied: python-dateutil>=2.8.1 in /Users/aakanksha/anaconda3/lib/python3.11/site-packages (from pandas<3,>=1.4.0->streamlit) (2.8.2)\n",
      "Requirement already satisfied: pytz>=2020.1 in /Users/aakanksha/anaconda3/lib/python3.11/site-packages (from pandas<3,>=1.4.0->streamlit) (2022.7)\n",
      "Requirement already satisfied: charset-normalizer<4,>=2 in /Users/aakanksha/anaconda3/lib/python3.11/site-packages (from requests<3,>=2.27->streamlit) (2.0.4)\n",
      "Requirement already satisfied: idna<4,>=2.5 in /Users/aakanksha/anaconda3/lib/python3.11/site-packages (from requests<3,>=2.27->streamlit) (3.4)\n",
      "Requirement already satisfied: urllib3<3,>=1.21.1 in /Users/aakanksha/anaconda3/lib/python3.11/site-packages (from requests<3,>=2.27->streamlit) (1.26.16)\n",
      "Requirement already satisfied: certifi>=2017.4.17 in /Users/aakanksha/anaconda3/lib/python3.11/site-packages (from requests<3,>=2.27->streamlit) (2023.7.22)\n",
      "Requirement already satisfied: smmap<6,>=3.0.1 in /Users/aakanksha/anaconda3/lib/python3.11/site-packages (from gitdb<5,>=4.0.1->gitpython!=3.1.19,<4,>=3.0.7->streamlit) (5.0.2)\n",
      "Requirement already satisfied: MarkupSafe>=2.0 in /Users/aakanksha/anaconda3/lib/python3.11/site-packages (from jinja2->altair<6,>=4.0->streamlit) (2.1.1)\n",
      "Requirement already satisfied: attrs>=17.4.0 in /Users/aakanksha/anaconda3/lib/python3.11/site-packages (from jsonschema>=3.0->altair<6,>=4.0->streamlit) (24.3.0)\n",
      "Requirement already satisfied: pyrsistent!=0.17.0,!=0.17.1,!=0.17.2,>=0.14.0 in /Users/aakanksha/anaconda3/lib/python3.11/site-packages (from jsonschema>=3.0->altair<6,>=4.0->streamlit) (0.18.0)\n",
      "Requirement already satisfied: six>=1.5 in /Users/aakanksha/anaconda3/lib/python3.11/site-packages (from python-dateutil>=2.8.1->pandas<3,>=1.4.0->streamlit) (1.16.0)\n",
      "Note: you may need to restart the kernel to use updated packages.\n"
     ]
    }
   ],
   "source": [
    "pip install streamlit --upgrade"
   ]
  },
  {
   "cell_type": "code",
   "execution_count": 76,
   "id": "e73f8d4c",
   "metadata": {},
   "outputs": [
    {
     "name": "stdout",
     "output_type": "stream",
     "text": [
      "Requirement already satisfied: streamlit_jupyter in /Users/aakanksha/anaconda3/lib/python3.11/site-packages (0.2.1)\n",
      "Requirement already satisfied: fastcore in /Users/aakanksha/anaconda3/lib/python3.11/site-packages (from streamlit_jupyter) (1.8.5)\n",
      "Requirement already satisfied: ipywidgets==7.7.2 in /Users/aakanksha/anaconda3/lib/python3.11/site-packages (from streamlit_jupyter) (7.7.2)\n",
      "Requirement already satisfied: jupyter in /Users/aakanksha/anaconda3/lib/python3.11/site-packages (from streamlit_jupyter) (1.0.0)\n",
      "Requirement already satisfied: stqdm in /Users/aakanksha/anaconda3/lib/python3.11/site-packages (from streamlit_jupyter) (0.0.5)\n",
      "Requirement already satisfied: streamlit>=1.19 in /Users/aakanksha/anaconda3/lib/python3.11/site-packages (from streamlit_jupyter) (1.46.1)\n",
      "Requirement already satisfied: tabulate in /Users/aakanksha/anaconda3/lib/python3.11/site-packages (from streamlit_jupyter) (0.8.10)\n",
      "Requirement already satisfied: tqdm in /Users/aakanksha/anaconda3/lib/python3.11/site-packages (from streamlit_jupyter) (4.65.0)\n",
      "Requirement already satisfied: ipykernel>=4.5.1 in /Users/aakanksha/anaconda3/lib/python3.11/site-packages (from ipywidgets==7.7.2->streamlit_jupyter) (6.29.5)\n",
      "Requirement already satisfied: ipython-genutils~=0.2.0 in /Users/aakanksha/anaconda3/lib/python3.11/site-packages (from ipywidgets==7.7.2->streamlit_jupyter) (0.2.0)\n",
      "Requirement already satisfied: traitlets>=4.3.1 in /Users/aakanksha/anaconda3/lib/python3.11/site-packages (from ipywidgets==7.7.2->streamlit_jupyter) (5.7.1)\n",
      "Requirement already satisfied: widgetsnbextension~=3.6.0 in /Users/aakanksha/anaconda3/lib/python3.11/site-packages (from ipywidgets==7.7.2->streamlit_jupyter) (3.6.10)\n",
      "Requirement already satisfied: ipython>=4.0.0 in /Users/aakanksha/anaconda3/lib/python3.11/site-packages (from ipywidgets==7.7.2->streamlit_jupyter) (8.12.0)\n",
      "Requirement already satisfied: jupyterlab-widgets<3,>=1.0.0 in /Users/aakanksha/anaconda3/lib/python3.11/site-packages (from ipywidgets==7.7.2->streamlit_jupyter) (1.1.11)\n",
      "Requirement already satisfied: altair<6,>=4.0 in /Users/aakanksha/anaconda3/lib/python3.11/site-packages (from streamlit>=1.19->streamlit_jupyter) (5.5.0)\n",
      "Requirement already satisfied: blinker<2,>=1.5.0 in /Users/aakanksha/anaconda3/lib/python3.11/site-packages (from streamlit>=1.19->streamlit_jupyter) (1.9.0)\n",
      "Requirement already satisfied: cachetools<7,>=4.0 in /Users/aakanksha/anaconda3/lib/python3.11/site-packages (from streamlit>=1.19->streamlit_jupyter) (5.3.2)\n",
      "Requirement already satisfied: click<9,>=7.0 in /Users/aakanksha/anaconda3/lib/python3.11/site-packages (from streamlit>=1.19->streamlit_jupyter) (8.0.4)\n",
      "Requirement already satisfied: numpy<3,>=1.23 in /Users/aakanksha/anaconda3/lib/python3.11/site-packages (from streamlit>=1.19->streamlit_jupyter) (1.24.3)\n",
      "Requirement already satisfied: packaging<26,>=20 in /Users/aakanksha/anaconda3/lib/python3.11/site-packages (from streamlit>=1.19->streamlit_jupyter) (24.2)\n",
      "Requirement already satisfied: pandas<3,>=1.4.0 in /Users/aakanksha/anaconda3/lib/python3.11/site-packages (from streamlit>=1.19->streamlit_jupyter) (1.5.3)\n",
      "Requirement already satisfied: pillow<12,>=7.1.0 in /Users/aakanksha/anaconda3/lib/python3.11/site-packages (from streamlit>=1.19->streamlit_jupyter) (9.4.0)\n",
      "Requirement already satisfied: protobuf<7,>=3.20 in /Users/aakanksha/anaconda3/lib/python3.11/site-packages (from streamlit>=1.19->streamlit_jupyter) (4.23.4)\n",
      "Requirement already satisfied: pyarrow>=7.0 in /Users/aakanksha/anaconda3/lib/python3.11/site-packages (from streamlit>=1.19->streamlit_jupyter) (11.0.0)\n",
      "Requirement already satisfied: requests<3,>=2.27 in /Users/aakanksha/anaconda3/lib/python3.11/site-packages (from streamlit>=1.19->streamlit_jupyter) (2.31.0)\n",
      "Requirement already satisfied: tenacity<10,>=8.1.0 in /Users/aakanksha/anaconda3/lib/python3.11/site-packages (from streamlit>=1.19->streamlit_jupyter) (8.2.2)\n",
      "Requirement already satisfied: toml<2,>=0.10.1 in /Users/aakanksha/anaconda3/lib/python3.11/site-packages (from streamlit>=1.19->streamlit_jupyter) (0.10.2)\n",
      "Requirement already satisfied: typing-extensions<5,>=4.4.0 in /Users/aakanksha/anaconda3/lib/python3.11/site-packages (from streamlit>=1.19->streamlit_jupyter) (4.12.2)\n",
      "Requirement already satisfied: gitpython!=3.1.19,<4,>=3.0.7 in /Users/aakanksha/anaconda3/lib/python3.11/site-packages (from streamlit>=1.19->streamlit_jupyter) (3.1.44)\n",
      "Requirement already satisfied: pydeck<1,>=0.8.0b4 in /Users/aakanksha/anaconda3/lib/python3.11/site-packages (from streamlit>=1.19->streamlit_jupyter) (0.9.1)\n",
      "Requirement already satisfied: tornado!=6.5.0,<7,>=6.0.3 in /Users/aakanksha/anaconda3/lib/python3.11/site-packages (from streamlit>=1.19->streamlit_jupyter) (6.3.2)\n",
      "Requirement already satisfied: notebook in /Users/aakanksha/anaconda3/lib/python3.11/site-packages (from jupyter->streamlit_jupyter) (6.5.4)\n",
      "Requirement already satisfied: qtconsole in /Users/aakanksha/anaconda3/lib/python3.11/site-packages (from jupyter->streamlit_jupyter) (5.4.2)\n",
      "Requirement already satisfied: jupyter-console in /Users/aakanksha/anaconda3/lib/python3.11/site-packages (from jupyter->streamlit_jupyter) (6.6.3)\n",
      "Requirement already satisfied: nbconvert in /Users/aakanksha/anaconda3/lib/python3.11/site-packages (from jupyter->streamlit_jupyter) (6.5.4)\n",
      "Requirement already satisfied: jinja2 in /Users/aakanksha/anaconda3/lib/python3.11/site-packages (from altair<6,>=4.0->streamlit>=1.19->streamlit_jupyter) (3.1.2)\n",
      "Requirement already satisfied: jsonschema>=3.0 in /Users/aakanksha/anaconda3/lib/python3.11/site-packages (from altair<6,>=4.0->streamlit>=1.19->streamlit_jupyter) (4.17.3)\n",
      "Requirement already satisfied: narwhals>=1.14.2 in /Users/aakanksha/anaconda3/lib/python3.11/site-packages (from altair<6,>=4.0->streamlit>=1.19->streamlit_jupyter) (1.46.0)\n",
      "Requirement already satisfied: gitdb<5,>=4.0.1 in /Users/aakanksha/anaconda3/lib/python3.11/site-packages (from gitpython!=3.1.19,<4,>=3.0.7->streamlit>=1.19->streamlit_jupyter) (4.0.12)\n",
      "Requirement already satisfied: appnope in /Users/aakanksha/anaconda3/lib/python3.11/site-packages (from ipykernel>=4.5.1->ipywidgets==7.7.2->streamlit_jupyter) (0.1.2)\n",
      "Requirement already satisfied: comm>=0.1.1 in /Users/aakanksha/anaconda3/lib/python3.11/site-packages (from ipykernel>=4.5.1->ipywidgets==7.7.2->streamlit_jupyter) (0.1.2)\n",
      "Requirement already satisfied: debugpy>=1.6.5 in /Users/aakanksha/anaconda3/lib/python3.11/site-packages (from ipykernel>=4.5.1->ipywidgets==7.7.2->streamlit_jupyter) (1.6.7)\n",
      "Requirement already satisfied: jupyter-client>=6.1.12 in /Users/aakanksha/anaconda3/lib/python3.11/site-packages (from ipykernel>=4.5.1->ipywidgets==7.7.2->streamlit_jupyter) (8.6.3)\n",
      "Requirement already satisfied: jupyter-core!=5.0.*,>=4.12 in /Users/aakanksha/anaconda3/lib/python3.11/site-packages (from ipykernel>=4.5.1->ipywidgets==7.7.2->streamlit_jupyter) (5.7.2)\n",
      "Requirement already satisfied: matplotlib-inline>=0.1 in /Users/aakanksha/anaconda3/lib/python3.11/site-packages (from ipykernel>=4.5.1->ipywidgets==7.7.2->streamlit_jupyter) (0.1.6)\n",
      "Requirement already satisfied: nest-asyncio in /Users/aakanksha/anaconda3/lib/python3.11/site-packages (from ipykernel>=4.5.1->ipywidgets==7.7.2->streamlit_jupyter) (1.5.6)\n",
      "Requirement already satisfied: psutil in /Users/aakanksha/anaconda3/lib/python3.11/site-packages (from ipykernel>=4.5.1->ipywidgets==7.7.2->streamlit_jupyter) (5.9.0)\n",
      "Requirement already satisfied: pyzmq>=24 in /Users/aakanksha/anaconda3/lib/python3.11/site-packages (from ipykernel>=4.5.1->ipywidgets==7.7.2->streamlit_jupyter) (26.2.0)\n",
      "Requirement already satisfied: backcall in /Users/aakanksha/anaconda3/lib/python3.11/site-packages (from ipython>=4.0.0->ipywidgets==7.7.2->streamlit_jupyter) (0.2.0)\n",
      "Requirement already satisfied: decorator in /Users/aakanksha/anaconda3/lib/python3.11/site-packages (from ipython>=4.0.0->ipywidgets==7.7.2->streamlit_jupyter) (5.1.1)\n",
      "Requirement already satisfied: jedi>=0.16 in /Users/aakanksha/anaconda3/lib/python3.11/site-packages (from ipython>=4.0.0->ipywidgets==7.7.2->streamlit_jupyter) (0.18.1)\n",
      "Requirement already satisfied: pickleshare in /Users/aakanksha/anaconda3/lib/python3.11/site-packages (from ipython>=4.0.0->ipywidgets==7.7.2->streamlit_jupyter) (0.7.5)\n",
      "Requirement already satisfied: prompt-toolkit!=3.0.37,<3.1.0,>=3.0.30 in /Users/aakanksha/anaconda3/lib/python3.11/site-packages (from ipython>=4.0.0->ipywidgets==7.7.2->streamlit_jupyter) (3.0.36)\n",
      "Requirement already satisfied: pygments>=2.4.0 in /Users/aakanksha/anaconda3/lib/python3.11/site-packages (from ipython>=4.0.0->ipywidgets==7.7.2->streamlit_jupyter) (2.15.1)\n",
      "Requirement already satisfied: stack-data in /Users/aakanksha/anaconda3/lib/python3.11/site-packages (from ipython>=4.0.0->ipywidgets==7.7.2->streamlit_jupyter) (0.2.0)\n",
      "Requirement already satisfied: pexpect>4.3 in /Users/aakanksha/anaconda3/lib/python3.11/site-packages (from ipython>=4.0.0->ipywidgets==7.7.2->streamlit_jupyter) (4.8.0)\n",
      "Requirement already satisfied: python-dateutil>=2.8.1 in /Users/aakanksha/anaconda3/lib/python3.11/site-packages (from pandas<3,>=1.4.0->streamlit>=1.19->streamlit_jupyter) (2.8.2)\n",
      "Requirement already satisfied: pytz>=2020.1 in /Users/aakanksha/anaconda3/lib/python3.11/site-packages (from pandas<3,>=1.4.0->streamlit>=1.19->streamlit_jupyter) (2022.7)\n",
      "Requirement already satisfied: charset-normalizer<4,>=2 in /Users/aakanksha/anaconda3/lib/python3.11/site-packages (from requests<3,>=2.27->streamlit>=1.19->streamlit_jupyter) (2.0.4)\n",
      "Requirement already satisfied: idna<4,>=2.5 in /Users/aakanksha/anaconda3/lib/python3.11/site-packages (from requests<3,>=2.27->streamlit>=1.19->streamlit_jupyter) (3.4)\n",
      "Requirement already satisfied: urllib3<3,>=1.21.1 in /Users/aakanksha/anaconda3/lib/python3.11/site-packages (from requests<3,>=2.27->streamlit>=1.19->streamlit_jupyter) (1.26.16)\n",
      "Requirement already satisfied: certifi>=2017.4.17 in /Users/aakanksha/anaconda3/lib/python3.11/site-packages (from requests<3,>=2.27->streamlit>=1.19->streamlit_jupyter) (2023.7.22)\n"
     ]
    },
    {
     "name": "stdout",
     "output_type": "stream",
     "text": [
      "Requirement already satisfied: argon2-cffi in /Users/aakanksha/anaconda3/lib/python3.11/site-packages (from notebook->jupyter->streamlit_jupyter) (21.3.0)\n",
      "Requirement already satisfied: nbformat in /Users/aakanksha/anaconda3/lib/python3.11/site-packages (from notebook->jupyter->streamlit_jupyter) (5.7.0)\n",
      "Requirement already satisfied: Send2Trash>=1.8.0 in /Users/aakanksha/anaconda3/lib/python3.11/site-packages (from notebook->jupyter->streamlit_jupyter) (1.8.0)\n",
      "Requirement already satisfied: terminado>=0.8.3 in /Users/aakanksha/anaconda3/lib/python3.11/site-packages (from notebook->jupyter->streamlit_jupyter) (0.17.1)\n",
      "Requirement already satisfied: prometheus-client in /Users/aakanksha/anaconda3/lib/python3.11/site-packages (from notebook->jupyter->streamlit_jupyter) (0.14.1)\n",
      "Requirement already satisfied: nbclassic>=0.4.7 in /Users/aakanksha/anaconda3/lib/python3.11/site-packages (from notebook->jupyter->streamlit_jupyter) (0.5.5)\n",
      "Requirement already satisfied: lxml in /Users/aakanksha/anaconda3/lib/python3.11/site-packages (from nbconvert->jupyter->streamlit_jupyter) (4.9.2)\n",
      "Requirement already satisfied: beautifulsoup4 in /Users/aakanksha/anaconda3/lib/python3.11/site-packages (from nbconvert->jupyter->streamlit_jupyter) (4.12.2)\n",
      "Requirement already satisfied: bleach in /Users/aakanksha/anaconda3/lib/python3.11/site-packages (from nbconvert->jupyter->streamlit_jupyter) (4.1.0)\n",
      "Requirement already satisfied: defusedxml in /Users/aakanksha/anaconda3/lib/python3.11/site-packages (from nbconvert->jupyter->streamlit_jupyter) (0.7.1)\n",
      "Requirement already satisfied: entrypoints>=0.2.2 in /Users/aakanksha/anaconda3/lib/python3.11/site-packages (from nbconvert->jupyter->streamlit_jupyter) (0.4)\n",
      "Requirement already satisfied: jupyterlab-pygments in /Users/aakanksha/anaconda3/lib/python3.11/site-packages (from nbconvert->jupyter->streamlit_jupyter) (0.1.2)\n",
      "Requirement already satisfied: MarkupSafe>=2.0 in /Users/aakanksha/anaconda3/lib/python3.11/site-packages (from nbconvert->jupyter->streamlit_jupyter) (2.1.1)\n",
      "Requirement already satisfied: mistune<2,>=0.8.1 in /Users/aakanksha/anaconda3/lib/python3.11/site-packages (from nbconvert->jupyter->streamlit_jupyter) (0.8.4)\n",
      "Requirement already satisfied: nbclient>=0.5.0 in /Users/aakanksha/anaconda3/lib/python3.11/site-packages (from nbconvert->jupyter->streamlit_jupyter) (0.5.13)\n",
      "Requirement already satisfied: pandocfilters>=1.4.1 in /Users/aakanksha/anaconda3/lib/python3.11/site-packages (from nbconvert->jupyter->streamlit_jupyter) (1.5.0)\n",
      "Requirement already satisfied: tinycss2 in /Users/aakanksha/anaconda3/lib/python3.11/site-packages (from nbconvert->jupyter->streamlit_jupyter) (1.2.1)\n",
      "Requirement already satisfied: qtpy>=2.0.1 in /Users/aakanksha/anaconda3/lib/python3.11/site-packages (from qtconsole->jupyter->streamlit_jupyter) (2.2.0)\n",
      "Requirement already satisfied: smmap<6,>=3.0.1 in /Users/aakanksha/anaconda3/lib/python3.11/site-packages (from gitdb<5,>=4.0.1->gitpython!=3.1.19,<4,>=3.0.7->streamlit>=1.19->streamlit_jupyter) (5.0.2)\n",
      "Requirement already satisfied: parso<0.9.0,>=0.8.0 in /Users/aakanksha/anaconda3/lib/python3.11/site-packages (from jedi>=0.16->ipython>=4.0.0->ipywidgets==7.7.2->streamlit_jupyter) (0.8.3)\n",
      "Requirement already satisfied: attrs>=17.4.0 in /Users/aakanksha/anaconda3/lib/python3.11/site-packages (from jsonschema>=3.0->altair<6,>=4.0->streamlit>=1.19->streamlit_jupyter) (24.3.0)\n",
      "Requirement already satisfied: pyrsistent!=0.17.0,!=0.17.1,!=0.17.2,>=0.14.0 in /Users/aakanksha/anaconda3/lib/python3.11/site-packages (from jsonschema>=3.0->altair<6,>=4.0->streamlit>=1.19->streamlit_jupyter) (0.18.0)\n",
      "Requirement already satisfied: platformdirs>=2.5 in /Users/aakanksha/anaconda3/lib/python3.11/site-packages (from jupyter-core!=5.0.*,>=4.12->ipykernel>=4.5.1->ipywidgets==7.7.2->streamlit_jupyter) (2.5.2)\n",
      "Requirement already satisfied: jupyter-server>=1.8 in /Users/aakanksha/anaconda3/lib/python3.11/site-packages (from nbclassic>=0.4.7->notebook->jupyter->streamlit_jupyter) (1.23.4)\n",
      "Requirement already satisfied: notebook-shim>=0.1.0 in /Users/aakanksha/anaconda3/lib/python3.11/site-packages (from nbclassic>=0.4.7->notebook->jupyter->streamlit_jupyter) (0.2.2)\n",
      "Requirement already satisfied: fastjsonschema in /Users/aakanksha/anaconda3/lib/python3.11/site-packages (from nbformat->notebook->jupyter->streamlit_jupyter) (2.16.2)\n",
      "Requirement already satisfied: ptyprocess>=0.5 in /Users/aakanksha/anaconda3/lib/python3.11/site-packages (from pexpect>4.3->ipython>=4.0.0->ipywidgets==7.7.2->streamlit_jupyter) (0.7.0)\n",
      "Requirement already satisfied: wcwidth in /Users/aakanksha/anaconda3/lib/python3.11/site-packages (from prompt-toolkit!=3.0.37,<3.1.0,>=3.0.30->ipython>=4.0.0->ipywidgets==7.7.2->streamlit_jupyter) (0.2.5)\n",
      "Requirement already satisfied: six>=1.5 in /Users/aakanksha/anaconda3/lib/python3.11/site-packages (from python-dateutil>=2.8.1->pandas<3,>=1.4.0->streamlit>=1.19->streamlit_jupyter) (1.16.0)\n",
      "Requirement already satisfied: argon2-cffi-bindings in /Users/aakanksha/anaconda3/lib/python3.11/site-packages (from argon2-cffi->notebook->jupyter->streamlit_jupyter) (21.2.0)\n",
      "Requirement already satisfied: soupsieve>1.2 in /Users/aakanksha/anaconda3/lib/python3.11/site-packages (from beautifulsoup4->nbconvert->jupyter->streamlit_jupyter) (2.4)\n",
      "Requirement already satisfied: webencodings in /Users/aakanksha/anaconda3/lib/python3.11/site-packages (from bleach->nbconvert->jupyter->streamlit_jupyter) (0.5.1)\n",
      "Requirement already satisfied: executing in /Users/aakanksha/anaconda3/lib/python3.11/site-packages (from stack-data->ipython>=4.0.0->ipywidgets==7.7.2->streamlit_jupyter) (0.8.3)\n",
      "Requirement already satisfied: asttokens in /Users/aakanksha/anaconda3/lib/python3.11/site-packages (from stack-data->ipython>=4.0.0->ipywidgets==7.7.2->streamlit_jupyter) (2.0.5)\n",
      "Requirement already satisfied: pure-eval in /Users/aakanksha/anaconda3/lib/python3.11/site-packages (from stack-data->ipython>=4.0.0->ipywidgets==7.7.2->streamlit_jupyter) (0.2.2)\n",
      "Requirement already satisfied: anyio<4,>=3.1.0 in /Users/aakanksha/anaconda3/lib/python3.11/site-packages (from jupyter-server>=1.8->nbclassic>=0.4.7->notebook->jupyter->streamlit_jupyter) (3.5.0)\n",
      "Requirement already satisfied: websocket-client in /Users/aakanksha/anaconda3/lib/python3.11/site-packages (from jupyter-server>=1.8->nbclassic>=0.4.7->notebook->jupyter->streamlit_jupyter) (1.8.0)\n",
      "Requirement already satisfied: cffi>=1.0.1 in /Users/aakanksha/anaconda3/lib/python3.11/site-packages (from argon2-cffi-bindings->argon2-cffi->notebook->jupyter->streamlit_jupyter) (1.15.1)\n",
      "Requirement already satisfied: sniffio>=1.1 in /Users/aakanksha/anaconda3/lib/python3.11/site-packages (from anyio<4,>=3.1.0->jupyter-server>=1.8->nbclassic>=0.4.7->notebook->jupyter->streamlit_jupyter) (1.3.1)\n",
      "Requirement already satisfied: pycparser in /Users/aakanksha/anaconda3/lib/python3.11/site-packages (from cffi>=1.0.1->argon2-cffi-bindings->argon2-cffi->notebook->jupyter->streamlit_jupyter) (2.21)\n",
      "Note: you may need to restart the kernel to use updated packages.\n"
     ]
    }
   ],
   "source": [
    "pip install streamlit_jupyter"
   ]
  },
  {
   "cell_type": "code",
   "execution_count": 79,
   "id": "b30f04c6",
   "metadata": {},
   "outputs": [
    {
     "name": "stdout",
     "output_type": "stream",
     "text": [
      "          country  count\n",
      "0   United States   2818\n",
      "1           India    972\n",
      "2  United Kingdom    419\n",
      "3           Japan    245\n",
      "4     South Korea    199\n",
      "country    object\n",
      "count       int64\n",
      "dtype: object\n"
     ]
    }
   ],
   "source": [
    "print(top_countries.head())\n",
    "print(top_countries.dtypes)"
   ]
  },
  {
   "cell_type": "code",
   "execution_count": 85,
   "id": "da5c2ca2",
   "metadata": {},
   "outputs": [],
   "source": [
    "df.to_csv(\"netflix_cleaned.csv\", index=False)\n"
   ]
  },
  {
   "cell_type": "code",
   "execution_count": 87,
   "id": "46346a17",
   "metadata": {},
   "outputs": [
    {
     "name": "stdout",
     "output_type": "stream",
     "text": [
      "['netflix_titles.csv.zip', 'vs', 'Visual Studio Code.app', 'Screenshot 2025-07-01 at 6.25.43\\u202fPM.png', 'Screenshot 2025-05-28 at 11.09.10\\u202fAM.png', 'transcripts', 'study', 'Screenshot 2025-07-06 at 11.08.14\\u202fAM.png', '.DS_Store', 'Screenshot 2025-07-08 at 9.49.57\\u202fAM.png', 'mysql-workbench-community-8.0.34-macos-arm64 (1).dmg', '.app.py.swp', 'Screenshot 2025-06-29 at 1.21.48\\u202fPM.png', '.localized', 'NLTK practice.ipynb', 'Untitled.ipynb', 'term-statement-pdf.pdf', '225725.png', 'Kondepi 7.1.25.pdf', 'dmv', 'llms.pdf', 'datasets', 'open-ai-trading-bot', 'resumes', '~$kanksha_CIS547_Project Summary_ Fall24.docx', 'Receipt Notice (1).pdf', 'Netflix.ipynb', 'Screenshot 2025-06-19 at 4.21.34\\u202fPM.png', 'inspo', 'Aakanksha_Kondepi .pdf', 'Screenshot 2025-05-31 at 6.17.55\\u202fPM.png', 'stats Projects', '.env', 'Aakanksha_Kondepi .docx', 'Screenshot 2025-05-28 at 10.45.09\\u202fPM.png', 'opt', 'Screenshot 2025-07-01 at 10.46.57\\u202fAM.png', '.ipynb_checkpoints', 'visuals', 'diabetes.csv', '2024TaxReturn.PDF', 'netflix_cleaned.csv', 'Screenshot 2025-07-01 at 6.25.35\\u202fPM.png', 'Screenshot 2025-07-07 at 10.34.31\\u202fAM.png', '.git', 'Screenshot 2025-06-19 at 9.39.37\\u202fPM.png', 'netflix_titles.csv']\n"
     ]
    }
   ],
   "source": [
    "import os\n",
    "print(os.listdir())\n"
   ]
  }
 ],
 "metadata": {
  "kernelspec": {
   "display_name": "Python 3 (ipykernel)",
   "language": "python",
   "name": "python3"
  },
  "language_info": {
   "codemirror_mode": {
    "name": "ipython",
    "version": 3
   },
   "file_extension": ".py",
   "mimetype": "text/x-python",
   "name": "python",
   "nbconvert_exporter": "python",
   "pygments_lexer": "ipython3",
   "version": "3.11.4"
  }
 },
 "nbformat": 4,
 "nbformat_minor": 5
}
